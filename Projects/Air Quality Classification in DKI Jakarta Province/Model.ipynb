{
 "cells": [
  {
   "cell_type": "markdown",
   "metadata": {
    "id": "6Pmeg9NHNoPe"
   },
   "source": [
    "#**Data Preparation**"
   ]
  },
  {
   "cell_type": "markdown",
   "metadata": {
    "id": "qo9HkwVxNsLo"
   },
   "source": [
    "##**Data Exploration**"
   ]
  },
  {
   "cell_type": "code",
   "execution_count": 72,
   "metadata": {
    "id": "3tdsOiDMOAHz"
   },
   "outputs": [],
   "source": [
    "import pandas as pd\n",
    "import numpy as np\n",
    "import scipy as sp\n",
    "import matplotlib.pyplot as plt\n",
    "import seaborn as sns"
   ]
  },
  {
   "cell_type": "code",
   "execution_count": 73,
   "metadata": {
    "colab": {
     "base_uri": "https://localhost:8080/",
     "height": 423
    },
    "id": "Mw1wGSlDOJDg",
    "outputId": "ff746abf-f7ff-4ee7-a9df-c57cf7b43ea1"
   },
   "outputs": [
    {
     "data": {
      "text/html": [
       "<div>\n",
       "<style scoped>\n",
       "    .dataframe tbody tr th:only-of-type {\n",
       "        vertical-align: middle;\n",
       "    }\n",
       "\n",
       "    .dataframe tbody tr th {\n",
       "        vertical-align: top;\n",
       "    }\n",
       "\n",
       "    .dataframe thead th {\n",
       "        text-align: right;\n",
       "    }\n",
       "</style>\n",
       "<table border=\"1\" class=\"dataframe\">\n",
       "  <thead>\n",
       "    <tr style=\"text-align: right;\">\n",
       "      <th></th>\n",
       "      <th>tanggal</th>\n",
       "      <th>stasiun</th>\n",
       "      <th>pm10</th>\n",
       "      <th>pm25</th>\n",
       "      <th>so2</th>\n",
       "      <th>co</th>\n",
       "      <th>o3</th>\n",
       "      <th>no2</th>\n",
       "      <th>max</th>\n",
       "      <th>critical</th>\n",
       "      <th>categori</th>\n",
       "    </tr>\n",
       "  </thead>\n",
       "  <tbody>\n",
       "    <tr>\n",
       "      <th>0</th>\n",
       "      <td>4/1/2021</td>\n",
       "      <td>DKI1 (Bunderan HI)</td>\n",
       "      <td>26</td>\n",
       "      <td>42</td>\n",
       "      <td>22</td>\n",
       "      <td>11</td>\n",
       "      <td>13</td>\n",
       "      <td>19</td>\n",
       "      <td>42</td>\n",
       "      <td>PM25</td>\n",
       "      <td>BAIK</td>\n",
       "    </tr>\n",
       "    <tr>\n",
       "      <th>1</th>\n",
       "      <td>4/2/2021</td>\n",
       "      <td>DKI1 (Bunderan HI)</td>\n",
       "      <td>41</td>\n",
       "      <td>54</td>\n",
       "      <td>27</td>\n",
       "      <td>11</td>\n",
       "      <td>17</td>\n",
       "      <td>19</td>\n",
       "      <td>54</td>\n",
       "      <td>PM25</td>\n",
       "      <td>SEDANG</td>\n",
       "    </tr>\n",
       "    <tr>\n",
       "      <th>2</th>\n",
       "      <td>4/3/2021</td>\n",
       "      <td>DKI1 (Bunderan HI)</td>\n",
       "      <td>25</td>\n",
       "      <td>42</td>\n",
       "      <td>20</td>\n",
       "      <td>8</td>\n",
       "      <td>18</td>\n",
       "      <td>22</td>\n",
       "      <td>42</td>\n",
       "      <td>PM25</td>\n",
       "      <td>BAIK</td>\n",
       "    </tr>\n",
       "    <tr>\n",
       "      <th>3</th>\n",
       "      <td>4/4/2021</td>\n",
       "      <td>DKI1 (Bunderan HI)</td>\n",
       "      <td>57</td>\n",
       "      <td>78</td>\n",
       "      <td>21</td>\n",
       "      <td>23</td>\n",
       "      <td>14</td>\n",
       "      <td>33</td>\n",
       "      <td>78</td>\n",
       "      <td>PM25</td>\n",
       "      <td>SEDANG</td>\n",
       "    </tr>\n",
       "    <tr>\n",
       "      <th>4</th>\n",
       "      <td>4/5/2021</td>\n",
       "      <td>DKI1 (Bunderan HI)</td>\n",
       "      <td>52</td>\n",
       "      <td>69</td>\n",
       "      <td>22</td>\n",
       "      <td>15</td>\n",
       "      <td>18</td>\n",
       "      <td>27</td>\n",
       "      <td>69</td>\n",
       "      <td>PM25</td>\n",
       "      <td>SEDANG</td>\n",
       "    </tr>\n",
       "    <tr>\n",
       "      <th>...</th>\n",
       "      <td>...</td>\n",
       "      <td>...</td>\n",
       "      <td>...</td>\n",
       "      <td>...</td>\n",
       "      <td>...</td>\n",
       "      <td>...</td>\n",
       "      <td>...</td>\n",
       "      <td>...</td>\n",
       "      <td>...</td>\n",
       "      <td>...</td>\n",
       "      <td>...</td>\n",
       "    </tr>\n",
       "    <tr>\n",
       "      <th>750</th>\n",
       "      <td>5/27/2021</td>\n",
       "      <td>DKI5 (Kebon Jeruk) Jakarta Barat</td>\n",
       "      <td>34</td>\n",
       "      <td>61</td>\n",
       "      <td>32</td>\n",
       "      <td>5</td>\n",
       "      <td>20</td>\n",
       "      <td>11</td>\n",
       "      <td>61</td>\n",
       "      <td>PM25</td>\n",
       "      <td>SEDANG</td>\n",
       "    </tr>\n",
       "    <tr>\n",
       "      <th>751</th>\n",
       "      <td>5/28/2021</td>\n",
       "      <td>DKI5 (Kebon Jeruk) Jakarta Barat</td>\n",
       "      <td>49</td>\n",
       "      <td>77</td>\n",
       "      <td>37</td>\n",
       "      <td>8</td>\n",
       "      <td>20</td>\n",
       "      <td>19</td>\n",
       "      <td>77</td>\n",
       "      <td>PM25</td>\n",
       "      <td>SEDANG</td>\n",
       "    </tr>\n",
       "    <tr>\n",
       "      <th>752</th>\n",
       "      <td>5/29/2021</td>\n",
       "      <td>DKI5 (Kebon Jeruk) Jakarta Barat</td>\n",
       "      <td>54</td>\n",
       "      <td>88</td>\n",
       "      <td>37</td>\n",
       "      <td>11</td>\n",
       "      <td>19</td>\n",
       "      <td>29</td>\n",
       "      <td>88</td>\n",
       "      <td>PM25</td>\n",
       "      <td>SEDANG</td>\n",
       "    </tr>\n",
       "    <tr>\n",
       "      <th>753</th>\n",
       "      <td>5/30/2021</td>\n",
       "      <td>DKI5 (Kebon Jeruk) Jakarta Barat</td>\n",
       "      <td>46</td>\n",
       "      <td>66</td>\n",
       "      <td>24</td>\n",
       "      <td>15</td>\n",
       "      <td>18</td>\n",
       "      <td>29</td>\n",
       "      <td>66</td>\n",
       "      <td>PM25</td>\n",
       "      <td>SEDANG</td>\n",
       "    </tr>\n",
       "    <tr>\n",
       "      <th>754</th>\n",
       "      <td>5/31/2021</td>\n",
       "      <td>DKI5 (Kebon Jeruk) Jakarta Barat</td>\n",
       "      <td>52</td>\n",
       "      <td>82</td>\n",
       "      <td>21</td>\n",
       "      <td>11</td>\n",
       "      <td>27</td>\n",
       "      <td>18</td>\n",
       "      <td>82</td>\n",
       "      <td>PM25</td>\n",
       "      <td>SEDANG</td>\n",
       "    </tr>\n",
       "  </tbody>\n",
       "</table>\n",
       "<p>755 rows × 11 columns</p>\n",
       "</div>"
      ],
      "text/plain": [
       "       tanggal                           stasiun pm10  ... max critical categori\n",
       "0     4/1/2021                DKI1 (Bunderan HI)   26  ...  42     PM25     BAIK\n",
       "1     4/2/2021                DKI1 (Bunderan HI)   41  ...  54     PM25   SEDANG\n",
       "2     4/3/2021                DKI1 (Bunderan HI)   25  ...  42     PM25     BAIK\n",
       "3     4/4/2021                DKI1 (Bunderan HI)   57  ...  78     PM25   SEDANG\n",
       "4     4/5/2021                DKI1 (Bunderan HI)   52  ...  69     PM25   SEDANG\n",
       "..         ...                               ...  ...  ...  ..      ...      ...\n",
       "750  5/27/2021  DKI5 (Kebon Jeruk) Jakarta Barat   34  ...  61     PM25   SEDANG\n",
       "751  5/28/2021  DKI5 (Kebon Jeruk) Jakarta Barat   49  ...  77     PM25   SEDANG\n",
       "752  5/29/2021  DKI5 (Kebon Jeruk) Jakarta Barat   54  ...  88     PM25   SEDANG\n",
       "753  5/30/2021  DKI5 (Kebon Jeruk) Jakarta Barat   46  ...  66     PM25   SEDANG\n",
       "754  5/31/2021  DKI5 (Kebon Jeruk) Jakarta Barat   52  ...  82     PM25   SEDANG\n",
       "\n",
       "[755 rows x 11 columns]"
      ]
     },
     "execution_count": 73,
     "metadata": {},
     "output_type": "execute_result"
    }
   ],
   "source": [
    "df = pd.read_csv('ispu.csv')\n",
    "df"
   ]
  },
  {
   "cell_type": "code",
   "execution_count": 74,
   "metadata": {
    "colab": {
     "base_uri": "https://localhost:8080/",
     "height": 206
    },
    "id": "2dOp9dReOP-e",
    "outputId": "d6f6c29f-59e9-4372-f0e1-34bd274e1b5b"
   },
   "outputs": [
    {
     "data": {
      "text/html": [
       "<div>\n",
       "<style scoped>\n",
       "    .dataframe tbody tr th:only-of-type {\n",
       "        vertical-align: middle;\n",
       "    }\n",
       "\n",
       "    .dataframe tbody tr th {\n",
       "        vertical-align: top;\n",
       "    }\n",
       "\n",
       "    .dataframe thead th {\n",
       "        text-align: right;\n",
       "    }\n",
       "</style>\n",
       "<table border=\"1\" class=\"dataframe\">\n",
       "  <thead>\n",
       "    <tr style=\"text-align: right;\">\n",
       "      <th></th>\n",
       "      <th>tanggal</th>\n",
       "      <th>stasiun</th>\n",
       "      <th>pm10</th>\n",
       "      <th>pm25</th>\n",
       "      <th>so2</th>\n",
       "      <th>co</th>\n",
       "      <th>o3</th>\n",
       "      <th>no2</th>\n",
       "      <th>max</th>\n",
       "      <th>critical</th>\n",
       "      <th>categori</th>\n",
       "    </tr>\n",
       "  </thead>\n",
       "  <tbody>\n",
       "    <tr>\n",
       "      <th>0</th>\n",
       "      <td>4/1/2021</td>\n",
       "      <td>DKI1 (Bunderan HI)</td>\n",
       "      <td>26</td>\n",
       "      <td>42</td>\n",
       "      <td>22</td>\n",
       "      <td>11</td>\n",
       "      <td>13</td>\n",
       "      <td>19</td>\n",
       "      <td>42</td>\n",
       "      <td>PM25</td>\n",
       "      <td>BAIK</td>\n",
       "    </tr>\n",
       "    <tr>\n",
       "      <th>1</th>\n",
       "      <td>4/2/2021</td>\n",
       "      <td>DKI1 (Bunderan HI)</td>\n",
       "      <td>41</td>\n",
       "      <td>54</td>\n",
       "      <td>27</td>\n",
       "      <td>11</td>\n",
       "      <td>17</td>\n",
       "      <td>19</td>\n",
       "      <td>54</td>\n",
       "      <td>PM25</td>\n",
       "      <td>SEDANG</td>\n",
       "    </tr>\n",
       "    <tr>\n",
       "      <th>2</th>\n",
       "      <td>4/3/2021</td>\n",
       "      <td>DKI1 (Bunderan HI)</td>\n",
       "      <td>25</td>\n",
       "      <td>42</td>\n",
       "      <td>20</td>\n",
       "      <td>8</td>\n",
       "      <td>18</td>\n",
       "      <td>22</td>\n",
       "      <td>42</td>\n",
       "      <td>PM25</td>\n",
       "      <td>BAIK</td>\n",
       "    </tr>\n",
       "    <tr>\n",
       "      <th>3</th>\n",
       "      <td>4/4/2021</td>\n",
       "      <td>DKI1 (Bunderan HI)</td>\n",
       "      <td>57</td>\n",
       "      <td>78</td>\n",
       "      <td>21</td>\n",
       "      <td>23</td>\n",
       "      <td>14</td>\n",
       "      <td>33</td>\n",
       "      <td>78</td>\n",
       "      <td>PM25</td>\n",
       "      <td>SEDANG</td>\n",
       "    </tr>\n",
       "    <tr>\n",
       "      <th>4</th>\n",
       "      <td>4/5/2021</td>\n",
       "      <td>DKI1 (Bunderan HI)</td>\n",
       "      <td>52</td>\n",
       "      <td>69</td>\n",
       "      <td>22</td>\n",
       "      <td>15</td>\n",
       "      <td>18</td>\n",
       "      <td>27</td>\n",
       "      <td>69</td>\n",
       "      <td>PM25</td>\n",
       "      <td>SEDANG</td>\n",
       "    </tr>\n",
       "  </tbody>\n",
       "</table>\n",
       "</div>"
      ],
      "text/plain": [
       "    tanggal             stasiun pm10 pm25 so2  ...  o3 no2 max  critical categori\n",
       "0  4/1/2021  DKI1 (Bunderan HI)   26   42  22  ...  13  19  42      PM25     BAIK\n",
       "1  4/2/2021  DKI1 (Bunderan HI)   41   54  27  ...  17  19  54      PM25   SEDANG\n",
       "2  4/3/2021  DKI1 (Bunderan HI)   25   42  20  ...  18  22  42      PM25     BAIK\n",
       "3  4/4/2021  DKI1 (Bunderan HI)   57   78  21  ...  14  33  78      PM25   SEDANG\n",
       "4  4/5/2021  DKI1 (Bunderan HI)   52   69  22  ...  18  27  69      PM25   SEDANG\n",
       "\n",
       "[5 rows x 11 columns]"
      ]
     },
     "execution_count": 74,
     "metadata": {},
     "output_type": "execute_result"
    }
   ],
   "source": [
    "df.head()"
   ]
  },
  {
   "cell_type": "code",
   "execution_count": 75,
   "metadata": {
    "colab": {
     "base_uri": "https://localhost:8080/"
    },
    "id": "q_fJ5R-KOTNs",
    "outputId": "3e59a2fb-4f5a-4946-eaee-6eeca65b72f6"
   },
   "outputs": [
    {
     "data": {
      "text/plain": [
       "tanggal     object\n",
       "stasiun     object\n",
       "pm10        object\n",
       "pm25        object\n",
       "so2         object\n",
       "co          object\n",
       "o3          object\n",
       "no2         object\n",
       "max          int64\n",
       "critical    object\n",
       "categori    object\n",
       "dtype: object"
      ]
     },
     "execution_count": 75,
     "metadata": {},
     "output_type": "execute_result"
    }
   ],
   "source": [
    "df.dtypes"
   ]
  },
  {
   "cell_type": "code",
   "execution_count": 76,
   "metadata": {
    "colab": {
     "base_uri": "https://localhost:8080/"
    },
    "id": "5DdiN7aNOiZp",
    "outputId": "ba57f3ea-0678-4bac-b60d-9005e6ab8c56"
   },
   "outputs": [
    {
     "data": {
      "text/plain": [
       "(755, 11)"
      ]
     },
     "execution_count": 76,
     "metadata": {},
     "output_type": "execute_result"
    }
   ],
   "source": [
    "df.shape"
   ]
  },
  {
   "cell_type": "code",
   "execution_count": 77,
   "metadata": {
    "colab": {
     "base_uri": "https://localhost:8080/",
     "height": 395
    },
    "id": "kpEMbZrQOWbn",
    "outputId": "2d9eb1e2-4b49-482e-fe4a-60a84d054b07"
   },
   "outputs": [
    {
     "data": {
      "text/html": [
       "<div>\n",
       "<style scoped>\n",
       "    .dataframe tbody tr th:only-of-type {\n",
       "        vertical-align: middle;\n",
       "    }\n",
       "\n",
       "    .dataframe tbody tr th {\n",
       "        vertical-align: top;\n",
       "    }\n",
       "\n",
       "    .dataframe thead th {\n",
       "        text-align: right;\n",
       "    }\n",
       "</style>\n",
       "<table border=\"1\" class=\"dataframe\">\n",
       "  <thead>\n",
       "    <tr style=\"text-align: right;\">\n",
       "      <th></th>\n",
       "      <th>tanggal</th>\n",
       "      <th>stasiun</th>\n",
       "      <th>pm10</th>\n",
       "      <th>pm25</th>\n",
       "      <th>so2</th>\n",
       "      <th>co</th>\n",
       "      <th>o3</th>\n",
       "      <th>no2</th>\n",
       "      <th>max</th>\n",
       "      <th>critical</th>\n",
       "      <th>categori</th>\n",
       "    </tr>\n",
       "  </thead>\n",
       "  <tbody>\n",
       "    <tr>\n",
       "      <th>count</th>\n",
       "      <td>755</td>\n",
       "      <td>755</td>\n",
       "      <td>755</td>\n",
       "      <td>693</td>\n",
       "      <td>755</td>\n",
       "      <td>755</td>\n",
       "      <td>755</td>\n",
       "      <td>755</td>\n",
       "      <td>755.000000</td>\n",
       "      <td>748</td>\n",
       "      <td>755</td>\n",
       "    </tr>\n",
       "    <tr>\n",
       "      <th>unique</th>\n",
       "      <td>151</td>\n",
       "      <td>5</td>\n",
       "      <td>71</td>\n",
       "      <td>103</td>\n",
       "      <td>59</td>\n",
       "      <td>38</td>\n",
       "      <td>75</td>\n",
       "      <td>44</td>\n",
       "      <td>NaN</td>\n",
       "      <td>5</td>\n",
       "      <td>4</td>\n",
       "    </tr>\n",
       "    <tr>\n",
       "      <th>top</th>\n",
       "      <td>5/1/2021</td>\n",
       "      <td>DKI4 (Lubang Buaya)</td>\n",
       "      <td>51</td>\n",
       "      <td>77</td>\n",
       "      <td>24</td>\n",
       "      <td>10</td>\n",
       "      <td>---</td>\n",
       "      <td>13</td>\n",
       "      <td>NaN</td>\n",
       "      <td>PM25</td>\n",
       "      <td>SEDANG</td>\n",
       "    </tr>\n",
       "    <tr>\n",
       "      <th>freq</th>\n",
       "      <td>5</td>\n",
       "      <td>151</td>\n",
       "      <td>35</td>\n",
       "      <td>22</td>\n",
       "      <td>40</td>\n",
       "      <td>70</td>\n",
       "      <td>31</td>\n",
       "      <td>42</td>\n",
       "      <td>NaN</td>\n",
       "      <td>625</td>\n",
       "      <td>558</td>\n",
       "    </tr>\n",
       "    <tr>\n",
       "      <th>mean</th>\n",
       "      <td>NaN</td>\n",
       "      <td>NaN</td>\n",
       "      <td>NaN</td>\n",
       "      <td>NaN</td>\n",
       "      <td>NaN</td>\n",
       "      <td>NaN</td>\n",
       "      <td>NaN</td>\n",
       "      <td>NaN</td>\n",
       "      <td>69.607947</td>\n",
       "      <td>NaN</td>\n",
       "      <td>NaN</td>\n",
       "    </tr>\n",
       "    <tr>\n",
       "      <th>std</th>\n",
       "      <td>NaN</td>\n",
       "      <td>NaN</td>\n",
       "      <td>NaN</td>\n",
       "      <td>NaN</td>\n",
       "      <td>NaN</td>\n",
       "      <td>NaN</td>\n",
       "      <td>NaN</td>\n",
       "      <td>NaN</td>\n",
       "      <td>22.147203</td>\n",
       "      <td>NaN</td>\n",
       "      <td>NaN</td>\n",
       "    </tr>\n",
       "    <tr>\n",
       "      <th>min</th>\n",
       "      <td>NaN</td>\n",
       "      <td>NaN</td>\n",
       "      <td>NaN</td>\n",
       "      <td>NaN</td>\n",
       "      <td>NaN</td>\n",
       "      <td>NaN</td>\n",
       "      <td>NaN</td>\n",
       "      <td>NaN</td>\n",
       "      <td>0.000000</td>\n",
       "      <td>NaN</td>\n",
       "      <td>NaN</td>\n",
       "    </tr>\n",
       "    <tr>\n",
       "      <th>25%</th>\n",
       "      <td>NaN</td>\n",
       "      <td>NaN</td>\n",
       "      <td>NaN</td>\n",
       "      <td>NaN</td>\n",
       "      <td>NaN</td>\n",
       "      <td>NaN</td>\n",
       "      <td>NaN</td>\n",
       "      <td>NaN</td>\n",
       "      <td>54.000000</td>\n",
       "      <td>NaN</td>\n",
       "      <td>NaN</td>\n",
       "    </tr>\n",
       "    <tr>\n",
       "      <th>50%</th>\n",
       "      <td>NaN</td>\n",
       "      <td>NaN</td>\n",
       "      <td>NaN</td>\n",
       "      <td>NaN</td>\n",
       "      <td>NaN</td>\n",
       "      <td>NaN</td>\n",
       "      <td>NaN</td>\n",
       "      <td>NaN</td>\n",
       "      <td>69.000000</td>\n",
       "      <td>NaN</td>\n",
       "      <td>NaN</td>\n",
       "    </tr>\n",
       "    <tr>\n",
       "      <th>75%</th>\n",
       "      <td>NaN</td>\n",
       "      <td>NaN</td>\n",
       "      <td>NaN</td>\n",
       "      <td>NaN</td>\n",
       "      <td>NaN</td>\n",
       "      <td>NaN</td>\n",
       "      <td>NaN</td>\n",
       "      <td>NaN</td>\n",
       "      <td>84.000000</td>\n",
       "      <td>NaN</td>\n",
       "      <td>NaN</td>\n",
       "    </tr>\n",
       "    <tr>\n",
       "      <th>max</th>\n",
       "      <td>NaN</td>\n",
       "      <td>NaN</td>\n",
       "      <td>NaN</td>\n",
       "      <td>NaN</td>\n",
       "      <td>NaN</td>\n",
       "      <td>NaN</td>\n",
       "      <td>NaN</td>\n",
       "      <td>NaN</td>\n",
       "      <td>151.000000</td>\n",
       "      <td>NaN</td>\n",
       "      <td>NaN</td>\n",
       "    </tr>\n",
       "  </tbody>\n",
       "</table>\n",
       "</div>"
      ],
      "text/plain": [
       "         tanggal              stasiun pm10  ...         max critical categori\n",
       "count        755                  755  755  ...  755.000000      748      755\n",
       "unique       151                    5   71  ...         NaN        5        4\n",
       "top     5/1/2021  DKI4 (Lubang Buaya)   51  ...         NaN     PM25   SEDANG\n",
       "freq           5                  151   35  ...         NaN      625      558\n",
       "mean         NaN                  NaN  NaN  ...   69.607947      NaN      NaN\n",
       "std          NaN                  NaN  NaN  ...   22.147203      NaN      NaN\n",
       "min          NaN                  NaN  NaN  ...    0.000000      NaN      NaN\n",
       "25%          NaN                  NaN  NaN  ...   54.000000      NaN      NaN\n",
       "50%          NaN                  NaN  NaN  ...   69.000000      NaN      NaN\n",
       "75%          NaN                  NaN  NaN  ...   84.000000      NaN      NaN\n",
       "max          NaN                  NaN  NaN  ...  151.000000      NaN      NaN\n",
       "\n",
       "[11 rows x 11 columns]"
      ]
     },
     "execution_count": 77,
     "metadata": {},
     "output_type": "execute_result"
    }
   ],
   "source": [
    "df.describe(include='all')"
   ]
  },
  {
   "cell_type": "code",
   "execution_count": 78,
   "metadata": {
    "colab": {
     "base_uri": "https://localhost:8080/"
    },
    "id": "UaeQ5_2sOmXX",
    "outputId": "e1314a8f-17b3-4319-c0dc-5a6d4b62fd59"
   },
   "outputs": [
    {
     "data": {
      "text/plain": [
       "categori\n",
       "BAIK              125\n",
       "SEDANG            558\n",
       "TIDAK ADA DATA      7\n",
       "TIDAK SEHAT        65\n",
       "dtype: int64"
      ]
     },
     "execution_count": 78,
     "metadata": {},
     "output_type": "execute_result"
    }
   ],
   "source": [
    "df.groupby('categori').size()"
   ]
  },
  {
   "cell_type": "code",
   "execution_count": 79,
   "metadata": {
    "colab": {
     "base_uri": "https://localhost:8080/",
     "height": 282
    },
    "id": "rviUFKL1PL3c",
    "outputId": "e5d44f12-d96c-44cc-aebc-5c0f523f199e"
   },
   "outputs": [
    {
     "data": {
      "text/plain": [
       "<matplotlib.axes._subplots.AxesSubplot at 0x7fa92f65b750>"
      ]
     },
     "execution_count": 79,
     "metadata": {},
     "output_type": "execute_result"
    },
    {
     "data": {
      "image/png": "[encoded data removed]",
      "text/plain": [
       "<Figure size 432x288 with 1 Axes>"
      ]
     },
     "metadata": {
      "needs_background": "light"
     },
     "output_type": "display_data"
    }
   ],
   "source": [
    "df['categori'].hist()"
   ]
  },
  {
   "cell_type": "markdown",
   "metadata": {
    "id": "W6mhg3cNPRtN"
   },
   "source": [
    "##**Data Missing**"
   ]
  },
  {
   "cell_type": "code",
   "execution_count": 80,
   "metadata": {
    "colab": {
     "base_uri": "https://localhost:8080/"
    },
    "id": "eRuGwnrfPe9J",
    "outputId": "5eb6190c-aa97-47c8-88ec-6c0dd448c1a0"
   },
   "outputs": [
    {
     "data": {
      "text/plain": [
       "tanggal      0\n",
       "stasiun      0\n",
       "pm10         0\n",
       "pm25        62\n",
       "so2          0\n",
       "co           0\n",
       "o3           0\n",
       "no2          0\n",
       "max          0\n",
       "critical     7\n",
       "categori     0\n",
       "dtype: int64"
      ]
     },
     "execution_count": 80,
     "metadata": {},
     "output_type": "execute_result"
    }
   ],
   "source": [
    "#cek missing value\n",
    "\n",
    "df.isna().sum()"
   ]
  },
  {
   "cell_type": "code",
   "execution_count": 81,
   "metadata": {
    "id": "OqTqBO22ljiB"
   },
   "outputs": [],
   "source": [
    "df = df.dropna()"
   ]
  },
  {
   "cell_type": "code",
   "execution_count": 82,
   "metadata": {
    "colab": {
     "base_uri": "https://localhost:8080/"
    },
    "id": "iUYO_dgll3hX",
    "outputId": "886481ca-9aaa-47b3-aa2e-b8aabb2627ba"
   },
   "outputs": [
    {
     "data": {
      "text/plain": [
       "tanggal     0\n",
       "stasiun     0\n",
       "pm10        0\n",
       "pm25        0\n",
       "so2         0\n",
       "co          0\n",
       "o3          0\n",
       "no2         0\n",
       "max         0\n",
       "critical    0\n",
       "categori    0\n",
       "dtype: int64"
      ]
     },
     "execution_count": 82,
     "metadata": {},
     "output_type": "execute_result"
    }
   ],
   "source": [
    "df.groupby(\"categori\").size()\n",
    "df.isnull().sum()"
   ]
  },
  {
   "cell_type": "code",
   "execution_count": 83,
   "metadata": {
    "colab": {
     "base_uri": "https://localhost:8080/"
    },
    "id": "5GcjAlNCmHTq",
    "outputId": "a7f56863-8c2f-410d-bdec-0063c7162c5f"
   },
   "outputs": [
    {
     "data": {
      "text/plain": [
       "tanggal     object\n",
       "stasiun     object\n",
       "pm10        object\n",
       "pm25        object\n",
       "so2         object\n",
       "co          object\n",
       "o3          object\n",
       "no2         object\n",
       "max          int64\n",
       "critical    object\n",
       "categori    object\n",
       "dtype: object"
      ]
     },
     "execution_count": 83,
     "metadata": {},
     "output_type": "execute_result"
    }
   ],
   "source": [
    "df.dtypes"
   ]
  },
  {
   "cell_type": "code",
   "execution_count": 84,
   "metadata": {
    "colab": {
     "base_uri": "https://localhost:8080/"
    },
    "id": "JrdYh5dDolba",
    "outputId": "6cb8a300-53b3-46ac-c39c-feb0b3bbca3a"
   },
   "outputs": [
    {
     "data": {
      "text/plain": [
       "51    33\n",
       "52    27\n",
       "54    25\n",
       "55    25\n",
       "56    23\n",
       "      ..\n",
       "89     1\n",
       "17     1\n",
       "86     1\n",
       "18     1\n",
       "84     1\n",
       "Name: pm10, Length: 69, dtype: int64"
      ]
     },
     "execution_count": 84,
     "metadata": {},
     "output_type": "execute_result"
    }
   ],
   "source": [
    "df[\"pm10\"].value_counts()"
   ]
  },
  {
   "cell_type": "code",
   "execution_count": 85,
   "metadata": {
    "colab": {
     "base_uri": "https://localhost:8080/"
    },
    "id": "Jl4Us_Vu2LA6",
    "outputId": "72e62c05-01bb-44b5-cd91-67d060d80466"
   },
   "outputs": [
    {
     "data": {
      "text/plain": [
       "Int64Index([ 48,  71,  78, 263, 266, 267, 268, 269, 270, 362, 363, 579, 580,\n",
       "            672, 673, 674, 675, 676, 677, 678, 679, 680, 681],\n",
       "           dtype='int64')"
      ]
     },
     "execution_count": 85,
     "metadata": {},
     "output_type": "execute_result"
    }
   ],
   "source": [
    "df[df[\"pm10\"]==\"---\"].index"
   ]
  },
  {
   "cell_type": "code",
   "execution_count": 86,
   "metadata": {
    "colab": {
     "base_uri": "https://localhost:8080/",
     "height": 423
    },
    "id": "SIZMMDvP3ohg",
    "outputId": "0bf7aced-0d36-4dac-f796-701691faa98d"
   },
   "outputs": [
    {
     "data": {
      "text/html": [
       "<div>\n",
       "<style scoped>\n",
       "    .dataframe tbody tr th:only-of-type {\n",
       "        vertical-align: middle;\n",
       "    }\n",
       "\n",
       "    .dataframe tbody tr th {\n",
       "        vertical-align: top;\n",
       "    }\n",
       "\n",
       "    .dataframe thead th {\n",
       "        text-align: right;\n",
       "    }\n",
       "</style>\n",
       "<table border=\"1\" class=\"dataframe\">\n",
       "  <thead>\n",
       "    <tr style=\"text-align: right;\">\n",
       "      <th></th>\n",
       "      <th>tanggal</th>\n",
       "      <th>stasiun</th>\n",
       "      <th>pm10</th>\n",
       "      <th>pm25</th>\n",
       "      <th>so2</th>\n",
       "      <th>co</th>\n",
       "      <th>o3</th>\n",
       "      <th>no2</th>\n",
       "      <th>max</th>\n",
       "      <th>critical</th>\n",
       "      <th>categori</th>\n",
       "    </tr>\n",
       "  </thead>\n",
       "  <tbody>\n",
       "    <tr>\n",
       "      <th>0</th>\n",
       "      <td>4/1/2021</td>\n",
       "      <td>DKI1 (Bunderan HI)</td>\n",
       "      <td>26</td>\n",
       "      <td>42</td>\n",
       "      <td>22</td>\n",
       "      <td>11</td>\n",
       "      <td>13</td>\n",
       "      <td>19</td>\n",
       "      <td>42</td>\n",
       "      <td>PM25</td>\n",
       "      <td>BAIK</td>\n",
       "    </tr>\n",
       "    <tr>\n",
       "      <th>1</th>\n",
       "      <td>4/2/2021</td>\n",
       "      <td>DKI1 (Bunderan HI)</td>\n",
       "      <td>41</td>\n",
       "      <td>54</td>\n",
       "      <td>27</td>\n",
       "      <td>11</td>\n",
       "      <td>17</td>\n",
       "      <td>19</td>\n",
       "      <td>54</td>\n",
       "      <td>PM25</td>\n",
       "      <td>SEDANG</td>\n",
       "    </tr>\n",
       "    <tr>\n",
       "      <th>2</th>\n",
       "      <td>4/3/2021</td>\n",
       "      <td>DKI1 (Bunderan HI)</td>\n",
       "      <td>25</td>\n",
       "      <td>42</td>\n",
       "      <td>20</td>\n",
       "      <td>8</td>\n",
       "      <td>18</td>\n",
       "      <td>22</td>\n",
       "      <td>42</td>\n",
       "      <td>PM25</td>\n",
       "      <td>BAIK</td>\n",
       "    </tr>\n",
       "    <tr>\n",
       "      <th>3</th>\n",
       "      <td>4/4/2021</td>\n",
       "      <td>DKI1 (Bunderan HI)</td>\n",
       "      <td>57</td>\n",
       "      <td>78</td>\n",
       "      <td>21</td>\n",
       "      <td>23</td>\n",
       "      <td>14</td>\n",
       "      <td>33</td>\n",
       "      <td>78</td>\n",
       "      <td>PM25</td>\n",
       "      <td>SEDANG</td>\n",
       "    </tr>\n",
       "    <tr>\n",
       "      <th>4</th>\n",
       "      <td>4/5/2021</td>\n",
       "      <td>DKI1 (Bunderan HI)</td>\n",
       "      <td>52</td>\n",
       "      <td>69</td>\n",
       "      <td>22</td>\n",
       "      <td>15</td>\n",
       "      <td>18</td>\n",
       "      <td>27</td>\n",
       "      <td>69</td>\n",
       "      <td>PM25</td>\n",
       "      <td>SEDANG</td>\n",
       "    </tr>\n",
       "    <tr>\n",
       "      <th>...</th>\n",
       "      <td>...</td>\n",
       "      <td>...</td>\n",
       "      <td>...</td>\n",
       "      <td>...</td>\n",
       "      <td>...</td>\n",
       "      <td>...</td>\n",
       "      <td>...</td>\n",
       "      <td>...</td>\n",
       "      <td>...</td>\n",
       "      <td>...</td>\n",
       "      <td>...</td>\n",
       "    </tr>\n",
       "    <tr>\n",
       "      <th>750</th>\n",
       "      <td>5/27/2021</td>\n",
       "      <td>DKI5 (Kebon Jeruk) Jakarta Barat</td>\n",
       "      <td>34</td>\n",
       "      <td>61</td>\n",
       "      <td>32</td>\n",
       "      <td>5</td>\n",
       "      <td>20</td>\n",
       "      <td>11</td>\n",
       "      <td>61</td>\n",
       "      <td>PM25</td>\n",
       "      <td>SEDANG</td>\n",
       "    </tr>\n",
       "    <tr>\n",
       "      <th>751</th>\n",
       "      <td>5/28/2021</td>\n",
       "      <td>DKI5 (Kebon Jeruk) Jakarta Barat</td>\n",
       "      <td>49</td>\n",
       "      <td>77</td>\n",
       "      <td>37</td>\n",
       "      <td>8</td>\n",
       "      <td>20</td>\n",
       "      <td>19</td>\n",
       "      <td>77</td>\n",
       "      <td>PM25</td>\n",
       "      <td>SEDANG</td>\n",
       "    </tr>\n",
       "    <tr>\n",
       "      <th>752</th>\n",
       "      <td>5/29/2021</td>\n",
       "      <td>DKI5 (Kebon Jeruk) Jakarta Barat</td>\n",
       "      <td>54</td>\n",
       "      <td>88</td>\n",
       "      <td>37</td>\n",
       "      <td>11</td>\n",
       "      <td>19</td>\n",
       "      <td>29</td>\n",
       "      <td>88</td>\n",
       "      <td>PM25</td>\n",
       "      <td>SEDANG</td>\n",
       "    </tr>\n",
       "    <tr>\n",
       "      <th>753</th>\n",
       "      <td>5/30/2021</td>\n",
       "      <td>DKI5 (Kebon Jeruk) Jakarta Barat</td>\n",
       "      <td>46</td>\n",
       "      <td>66</td>\n",
       "      <td>24</td>\n",
       "      <td>15</td>\n",
       "      <td>18</td>\n",
       "      <td>29</td>\n",
       "      <td>66</td>\n",
       "      <td>PM25</td>\n",
       "      <td>SEDANG</td>\n",
       "    </tr>\n",
       "    <tr>\n",
       "      <th>754</th>\n",
       "      <td>5/31/2021</td>\n",
       "      <td>DKI5 (Kebon Jeruk) Jakarta Barat</td>\n",
       "      <td>52</td>\n",
       "      <td>82</td>\n",
       "      <td>21</td>\n",
       "      <td>11</td>\n",
       "      <td>27</td>\n",
       "      <td>18</td>\n",
       "      <td>82</td>\n",
       "      <td>PM25</td>\n",
       "      <td>SEDANG</td>\n",
       "    </tr>\n",
       "  </tbody>\n",
       "</table>\n",
       "<p>683 rows × 11 columns</p>\n",
       "</div>"
      ],
      "text/plain": [
       "       tanggal                           stasiun pm10  ... max critical categori\n",
       "0     4/1/2021                DKI1 (Bunderan HI)   26  ...  42     PM25     BAIK\n",
       "1     4/2/2021                DKI1 (Bunderan HI)   41  ...  54     PM25   SEDANG\n",
       "2     4/3/2021                DKI1 (Bunderan HI)   25  ...  42     PM25     BAIK\n",
       "3     4/4/2021                DKI1 (Bunderan HI)   57  ...  78     PM25   SEDANG\n",
       "4     4/5/2021                DKI1 (Bunderan HI)   52  ...  69     PM25   SEDANG\n",
       "..         ...                               ...  ...  ...  ..      ...      ...\n",
       "750  5/27/2021  DKI5 (Kebon Jeruk) Jakarta Barat   34  ...  61     PM25   SEDANG\n",
       "751  5/28/2021  DKI5 (Kebon Jeruk) Jakarta Barat   49  ...  77     PM25   SEDANG\n",
       "752  5/29/2021  DKI5 (Kebon Jeruk) Jakarta Barat   54  ...  88     PM25   SEDANG\n",
       "753  5/30/2021  DKI5 (Kebon Jeruk) Jakarta Barat   46  ...  66     PM25   SEDANG\n",
       "754  5/31/2021  DKI5 (Kebon Jeruk) Jakarta Barat   52  ...  82     PM25   SEDANG\n",
       "\n",
       "[683 rows x 11 columns]"
      ]
     },
     "execution_count": 86,
     "metadata": {},
     "output_type": "execute_result"
    }
   ],
   "source": [
    "df=df.drop(df[df[\"no2\"]==\"---\"].index)\n",
    "df"
   ]
  },
  {
   "cell_type": "code",
   "execution_count": 87,
   "metadata": {
    "colab": {
     "base_uri": "https://localhost:8080/",
     "height": 423
    },
    "id": "sNLtL3PB5KRG",
    "outputId": "2582b904-e44c-4770-df19-047dc578134c"
   },
   "outputs": [
    {
     "data": {
      "text/html": [
       "<div>\n",
       "<style scoped>\n",
       "    .dataframe tbody tr th:only-of-type {\n",
       "        vertical-align: middle;\n",
       "    }\n",
       "\n",
       "    .dataframe tbody tr th {\n",
       "        vertical-align: top;\n",
       "    }\n",
       "\n",
       "    .dataframe thead th {\n",
       "        text-align: right;\n",
       "    }\n",
       "</style>\n",
       "<table border=\"1\" class=\"dataframe\">\n",
       "  <thead>\n",
       "    <tr style=\"text-align: right;\">\n",
       "      <th></th>\n",
       "      <th>tanggal</th>\n",
       "      <th>stasiun</th>\n",
       "      <th>pm10</th>\n",
       "      <th>pm25</th>\n",
       "      <th>so2</th>\n",
       "      <th>co</th>\n",
       "      <th>o3</th>\n",
       "      <th>no2</th>\n",
       "      <th>max</th>\n",
       "      <th>critical</th>\n",
       "      <th>categori</th>\n",
       "    </tr>\n",
       "  </thead>\n",
       "  <tbody>\n",
       "    <tr>\n",
       "      <th>0</th>\n",
       "      <td>4/1/2021</td>\n",
       "      <td>DKI1 (Bunderan HI)</td>\n",
       "      <td>26</td>\n",
       "      <td>42</td>\n",
       "      <td>22</td>\n",
       "      <td>11</td>\n",
       "      <td>13</td>\n",
       "      <td>19</td>\n",
       "      <td>42</td>\n",
       "      <td>PM25</td>\n",
       "      <td>BAIK</td>\n",
       "    </tr>\n",
       "    <tr>\n",
       "      <th>1</th>\n",
       "      <td>4/2/2021</td>\n",
       "      <td>DKI1 (Bunderan HI)</td>\n",
       "      <td>41</td>\n",
       "      <td>54</td>\n",
       "      <td>27</td>\n",
       "      <td>11</td>\n",
       "      <td>17</td>\n",
       "      <td>19</td>\n",
       "      <td>54</td>\n",
       "      <td>PM25</td>\n",
       "      <td>SEDANG</td>\n",
       "    </tr>\n",
       "    <tr>\n",
       "      <th>2</th>\n",
       "      <td>4/3/2021</td>\n",
       "      <td>DKI1 (Bunderan HI)</td>\n",
       "      <td>25</td>\n",
       "      <td>42</td>\n",
       "      <td>20</td>\n",
       "      <td>8</td>\n",
       "      <td>18</td>\n",
       "      <td>22</td>\n",
       "      <td>42</td>\n",
       "      <td>PM25</td>\n",
       "      <td>BAIK</td>\n",
       "    </tr>\n",
       "    <tr>\n",
       "      <th>3</th>\n",
       "      <td>4/4/2021</td>\n",
       "      <td>DKI1 (Bunderan HI)</td>\n",
       "      <td>57</td>\n",
       "      <td>78</td>\n",
       "      <td>21</td>\n",
       "      <td>23</td>\n",
       "      <td>14</td>\n",
       "      <td>33</td>\n",
       "      <td>78</td>\n",
       "      <td>PM25</td>\n",
       "      <td>SEDANG</td>\n",
       "    </tr>\n",
       "    <tr>\n",
       "      <th>4</th>\n",
       "      <td>4/5/2021</td>\n",
       "      <td>DKI1 (Bunderan HI)</td>\n",
       "      <td>52</td>\n",
       "      <td>69</td>\n",
       "      <td>22</td>\n",
       "      <td>15</td>\n",
       "      <td>18</td>\n",
       "      <td>27</td>\n",
       "      <td>69</td>\n",
       "      <td>PM25</td>\n",
       "      <td>SEDANG</td>\n",
       "    </tr>\n",
       "    <tr>\n",
       "      <th>...</th>\n",
       "      <td>...</td>\n",
       "      <td>...</td>\n",
       "      <td>...</td>\n",
       "      <td>...</td>\n",
       "      <td>...</td>\n",
       "      <td>...</td>\n",
       "      <td>...</td>\n",
       "      <td>...</td>\n",
       "      <td>...</td>\n",
       "      <td>...</td>\n",
       "      <td>...</td>\n",
       "    </tr>\n",
       "    <tr>\n",
       "      <th>750</th>\n",
       "      <td>5/27/2021</td>\n",
       "      <td>DKI5 (Kebon Jeruk) Jakarta Barat</td>\n",
       "      <td>34</td>\n",
       "      <td>61</td>\n",
       "      <td>32</td>\n",
       "      <td>5</td>\n",
       "      <td>20</td>\n",
       "      <td>11</td>\n",
       "      <td>61</td>\n",
       "      <td>PM25</td>\n",
       "      <td>SEDANG</td>\n",
       "    </tr>\n",
       "    <tr>\n",
       "      <th>751</th>\n",
       "      <td>5/28/2021</td>\n",
       "      <td>DKI5 (Kebon Jeruk) Jakarta Barat</td>\n",
       "      <td>49</td>\n",
       "      <td>77</td>\n",
       "      <td>37</td>\n",
       "      <td>8</td>\n",
       "      <td>20</td>\n",
       "      <td>19</td>\n",
       "      <td>77</td>\n",
       "      <td>PM25</td>\n",
       "      <td>SEDANG</td>\n",
       "    </tr>\n",
       "    <tr>\n",
       "      <th>752</th>\n",
       "      <td>5/29/2021</td>\n",
       "      <td>DKI5 (Kebon Jeruk) Jakarta Barat</td>\n",
       "      <td>54</td>\n",
       "      <td>88</td>\n",
       "      <td>37</td>\n",
       "      <td>11</td>\n",
       "      <td>19</td>\n",
       "      <td>29</td>\n",
       "      <td>88</td>\n",
       "      <td>PM25</td>\n",
       "      <td>SEDANG</td>\n",
       "    </tr>\n",
       "    <tr>\n",
       "      <th>753</th>\n",
       "      <td>5/30/2021</td>\n",
       "      <td>DKI5 (Kebon Jeruk) Jakarta Barat</td>\n",
       "      <td>46</td>\n",
       "      <td>66</td>\n",
       "      <td>24</td>\n",
       "      <td>15</td>\n",
       "      <td>18</td>\n",
       "      <td>29</td>\n",
       "      <td>66</td>\n",
       "      <td>PM25</td>\n",
       "      <td>SEDANG</td>\n",
       "    </tr>\n",
       "    <tr>\n",
       "      <th>754</th>\n",
       "      <td>5/31/2021</td>\n",
       "      <td>DKI5 (Kebon Jeruk) Jakarta Barat</td>\n",
       "      <td>52</td>\n",
       "      <td>82</td>\n",
       "      <td>21</td>\n",
       "      <td>11</td>\n",
       "      <td>27</td>\n",
       "      <td>18</td>\n",
       "      <td>82</td>\n",
       "      <td>PM25</td>\n",
       "      <td>SEDANG</td>\n",
       "    </tr>\n",
       "  </tbody>\n",
       "</table>\n",
       "<p>660 rows × 11 columns</p>\n",
       "</div>"
      ],
      "text/plain": [
       "       tanggal                           stasiun pm10  ... max critical categori\n",
       "0     4/1/2021                DKI1 (Bunderan HI)   26  ...  42     PM25     BAIK\n",
       "1     4/2/2021                DKI1 (Bunderan HI)   41  ...  54     PM25   SEDANG\n",
       "2     4/3/2021                DKI1 (Bunderan HI)   25  ...  42     PM25     BAIK\n",
       "3     4/4/2021                DKI1 (Bunderan HI)   57  ...  78     PM25   SEDANG\n",
       "4     4/5/2021                DKI1 (Bunderan HI)   52  ...  69     PM25   SEDANG\n",
       "..         ...                               ...  ...  ...  ..      ...      ...\n",
       "750  5/27/2021  DKI5 (Kebon Jeruk) Jakarta Barat   34  ...  61     PM25   SEDANG\n",
       "751  5/28/2021  DKI5 (Kebon Jeruk) Jakarta Barat   49  ...  77     PM25   SEDANG\n",
       "752  5/29/2021  DKI5 (Kebon Jeruk) Jakarta Barat   54  ...  88     PM25   SEDANG\n",
       "753  5/30/2021  DKI5 (Kebon Jeruk) Jakarta Barat   46  ...  66     PM25   SEDANG\n",
       "754  5/31/2021  DKI5 (Kebon Jeruk) Jakarta Barat   52  ...  82     PM25   SEDANG\n",
       "\n",
       "[660 rows x 11 columns]"
      ]
     },
     "execution_count": 87,
     "metadata": {},
     "output_type": "execute_result"
    }
   ],
   "source": [
    "df=df.drop(df[df[\"o3\"]==\"---\"].index)\n",
    "df"
   ]
  },
  {
   "cell_type": "code",
   "execution_count": 88,
   "metadata": {
    "colab": {
     "base_uri": "https://localhost:8080/",
     "height": 423
    },
    "id": "3VPR8nla-jye",
    "outputId": "18c346f4-ba2b-4fce-d5da-3ada8de3e910"
   },
   "outputs": [
    {
     "data": {
      "text/html": [
       "<div>\n",
       "<style scoped>\n",
       "    .dataframe tbody tr th:only-of-type {\n",
       "        vertical-align: middle;\n",
       "    }\n",
       "\n",
       "    .dataframe tbody tr th {\n",
       "        vertical-align: top;\n",
       "    }\n",
       "\n",
       "    .dataframe thead th {\n",
       "        text-align: right;\n",
       "    }\n",
       "</style>\n",
       "<table border=\"1\" class=\"dataframe\">\n",
       "  <thead>\n",
       "    <tr style=\"text-align: right;\">\n",
       "      <th></th>\n",
       "      <th>tanggal</th>\n",
       "      <th>stasiun</th>\n",
       "      <th>pm10</th>\n",
       "      <th>pm25</th>\n",
       "      <th>so2</th>\n",
       "      <th>co</th>\n",
       "      <th>o3</th>\n",
       "      <th>no2</th>\n",
       "      <th>max</th>\n",
       "      <th>critical</th>\n",
       "      <th>categori</th>\n",
       "    </tr>\n",
       "  </thead>\n",
       "  <tbody>\n",
       "    <tr>\n",
       "      <th>0</th>\n",
       "      <td>4/1/2021</td>\n",
       "      <td>DKI1 (Bunderan HI)</td>\n",
       "      <td>26</td>\n",
       "      <td>42</td>\n",
       "      <td>22</td>\n",
       "      <td>11</td>\n",
       "      <td>13</td>\n",
       "      <td>19</td>\n",
       "      <td>42</td>\n",
       "      <td>PM25</td>\n",
       "      <td>BAIK</td>\n",
       "    </tr>\n",
       "    <tr>\n",
       "      <th>1</th>\n",
       "      <td>4/2/2021</td>\n",
       "      <td>DKI1 (Bunderan HI)</td>\n",
       "      <td>41</td>\n",
       "      <td>54</td>\n",
       "      <td>27</td>\n",
       "      <td>11</td>\n",
       "      <td>17</td>\n",
       "      <td>19</td>\n",
       "      <td>54</td>\n",
       "      <td>PM25</td>\n",
       "      <td>SEDANG</td>\n",
       "    </tr>\n",
       "    <tr>\n",
       "      <th>2</th>\n",
       "      <td>4/3/2021</td>\n",
       "      <td>DKI1 (Bunderan HI)</td>\n",
       "      <td>25</td>\n",
       "      <td>42</td>\n",
       "      <td>20</td>\n",
       "      <td>8</td>\n",
       "      <td>18</td>\n",
       "      <td>22</td>\n",
       "      <td>42</td>\n",
       "      <td>PM25</td>\n",
       "      <td>BAIK</td>\n",
       "    </tr>\n",
       "    <tr>\n",
       "      <th>3</th>\n",
       "      <td>4/4/2021</td>\n",
       "      <td>DKI1 (Bunderan HI)</td>\n",
       "      <td>57</td>\n",
       "      <td>78</td>\n",
       "      <td>21</td>\n",
       "      <td>23</td>\n",
       "      <td>14</td>\n",
       "      <td>33</td>\n",
       "      <td>78</td>\n",
       "      <td>PM25</td>\n",
       "      <td>SEDANG</td>\n",
       "    </tr>\n",
       "    <tr>\n",
       "      <th>4</th>\n",
       "      <td>4/5/2021</td>\n",
       "      <td>DKI1 (Bunderan HI)</td>\n",
       "      <td>52</td>\n",
       "      <td>69</td>\n",
       "      <td>22</td>\n",
       "      <td>15</td>\n",
       "      <td>18</td>\n",
       "      <td>27</td>\n",
       "      <td>69</td>\n",
       "      <td>PM25</td>\n",
       "      <td>SEDANG</td>\n",
       "    </tr>\n",
       "    <tr>\n",
       "      <th>...</th>\n",
       "      <td>...</td>\n",
       "      <td>...</td>\n",
       "      <td>...</td>\n",
       "      <td>...</td>\n",
       "      <td>...</td>\n",
       "      <td>...</td>\n",
       "      <td>...</td>\n",
       "      <td>...</td>\n",
       "      <td>...</td>\n",
       "      <td>...</td>\n",
       "      <td>...</td>\n",
       "    </tr>\n",
       "    <tr>\n",
       "      <th>750</th>\n",
       "      <td>5/27/2021</td>\n",
       "      <td>DKI5 (Kebon Jeruk) Jakarta Barat</td>\n",
       "      <td>34</td>\n",
       "      <td>61</td>\n",
       "      <td>32</td>\n",
       "      <td>5</td>\n",
       "      <td>20</td>\n",
       "      <td>11</td>\n",
       "      <td>61</td>\n",
       "      <td>PM25</td>\n",
       "      <td>SEDANG</td>\n",
       "    </tr>\n",
       "    <tr>\n",
       "      <th>751</th>\n",
       "      <td>5/28/2021</td>\n",
       "      <td>DKI5 (Kebon Jeruk) Jakarta Barat</td>\n",
       "      <td>49</td>\n",
       "      <td>77</td>\n",
       "      <td>37</td>\n",
       "      <td>8</td>\n",
       "      <td>20</td>\n",
       "      <td>19</td>\n",
       "      <td>77</td>\n",
       "      <td>PM25</td>\n",
       "      <td>SEDANG</td>\n",
       "    </tr>\n",
       "    <tr>\n",
       "      <th>752</th>\n",
       "      <td>5/29/2021</td>\n",
       "      <td>DKI5 (Kebon Jeruk) Jakarta Barat</td>\n",
       "      <td>54</td>\n",
       "      <td>88</td>\n",
       "      <td>37</td>\n",
       "      <td>11</td>\n",
       "      <td>19</td>\n",
       "      <td>29</td>\n",
       "      <td>88</td>\n",
       "      <td>PM25</td>\n",
       "      <td>SEDANG</td>\n",
       "    </tr>\n",
       "    <tr>\n",
       "      <th>753</th>\n",
       "      <td>5/30/2021</td>\n",
       "      <td>DKI5 (Kebon Jeruk) Jakarta Barat</td>\n",
       "      <td>46</td>\n",
       "      <td>66</td>\n",
       "      <td>24</td>\n",
       "      <td>15</td>\n",
       "      <td>18</td>\n",
       "      <td>29</td>\n",
       "      <td>66</td>\n",
       "      <td>PM25</td>\n",
       "      <td>SEDANG</td>\n",
       "    </tr>\n",
       "    <tr>\n",
       "      <th>754</th>\n",
       "      <td>5/31/2021</td>\n",
       "      <td>DKI5 (Kebon Jeruk) Jakarta Barat</td>\n",
       "      <td>52</td>\n",
       "      <td>82</td>\n",
       "      <td>21</td>\n",
       "      <td>11</td>\n",
       "      <td>27</td>\n",
       "      <td>18</td>\n",
       "      <td>82</td>\n",
       "      <td>PM25</td>\n",
       "      <td>SEDANG</td>\n",
       "    </tr>\n",
       "  </tbody>\n",
       "</table>\n",
       "<p>647 rows × 11 columns</p>\n",
       "</div>"
      ],
      "text/plain": [
       "       tanggal                           stasiun pm10  ... max critical categori\n",
       "0     4/1/2021                DKI1 (Bunderan HI)   26  ...  42     PM25     BAIK\n",
       "1     4/2/2021                DKI1 (Bunderan HI)   41  ...  54     PM25   SEDANG\n",
       "2     4/3/2021                DKI1 (Bunderan HI)   25  ...  42     PM25     BAIK\n",
       "3     4/4/2021                DKI1 (Bunderan HI)   57  ...  78     PM25   SEDANG\n",
       "4     4/5/2021                DKI1 (Bunderan HI)   52  ...  69     PM25   SEDANG\n",
       "..         ...                               ...  ...  ...  ..      ...      ...\n",
       "750  5/27/2021  DKI5 (Kebon Jeruk) Jakarta Barat   34  ...  61     PM25   SEDANG\n",
       "751  5/28/2021  DKI5 (Kebon Jeruk) Jakarta Barat   49  ...  77     PM25   SEDANG\n",
       "752  5/29/2021  DKI5 (Kebon Jeruk) Jakarta Barat   54  ...  88     PM25   SEDANG\n",
       "753  5/30/2021  DKI5 (Kebon Jeruk) Jakarta Barat   46  ...  66     PM25   SEDANG\n",
       "754  5/31/2021  DKI5 (Kebon Jeruk) Jakarta Barat   52  ...  82     PM25   SEDANG\n",
       "\n",
       "[647 rows x 11 columns]"
      ]
     },
     "execution_count": 88,
     "metadata": {},
     "output_type": "execute_result"
    }
   ],
   "source": [
    "df=df.drop(df[df[\"co\"]==\"---\"].index)\n",
    "df"
   ]
  },
  {
   "cell_type": "code",
   "execution_count": 89,
   "metadata": {
    "colab": {
     "base_uri": "https://localhost:8080/",
     "height": 423
    },
    "id": "xXEmfIQF-vrZ",
    "outputId": "b0f8aa2b-f823-40b4-fd61-84dad1c2cce4"
   },
   "outputs": [
    {
     "data": {
      "text/html": [
       "<div>\n",
       "<style scoped>\n",
       "    .dataframe tbody tr th:only-of-type {\n",
       "        vertical-align: middle;\n",
       "    }\n",
       "\n",
       "    .dataframe tbody tr th {\n",
       "        vertical-align: top;\n",
       "    }\n",
       "\n",
       "    .dataframe thead th {\n",
       "        text-align: right;\n",
       "    }\n",
       "</style>\n",
       "<table border=\"1\" class=\"dataframe\">\n",
       "  <thead>\n",
       "    <tr style=\"text-align: right;\">\n",
       "      <th></th>\n",
       "      <th>tanggal</th>\n",
       "      <th>stasiun</th>\n",
       "      <th>pm10</th>\n",
       "      <th>pm25</th>\n",
       "      <th>so2</th>\n",
       "      <th>co</th>\n",
       "      <th>o3</th>\n",
       "      <th>no2</th>\n",
       "      <th>max</th>\n",
       "      <th>critical</th>\n",
       "      <th>categori</th>\n",
       "    </tr>\n",
       "  </thead>\n",
       "  <tbody>\n",
       "    <tr>\n",
       "      <th>0</th>\n",
       "      <td>4/1/2021</td>\n",
       "      <td>DKI1 (Bunderan HI)</td>\n",
       "      <td>26</td>\n",
       "      <td>42</td>\n",
       "      <td>22</td>\n",
       "      <td>11</td>\n",
       "      <td>13</td>\n",
       "      <td>19</td>\n",
       "      <td>42</td>\n",
       "      <td>PM25</td>\n",
       "      <td>BAIK</td>\n",
       "    </tr>\n",
       "    <tr>\n",
       "      <th>1</th>\n",
       "      <td>4/2/2021</td>\n",
       "      <td>DKI1 (Bunderan HI)</td>\n",
       "      <td>41</td>\n",
       "      <td>54</td>\n",
       "      <td>27</td>\n",
       "      <td>11</td>\n",
       "      <td>17</td>\n",
       "      <td>19</td>\n",
       "      <td>54</td>\n",
       "      <td>PM25</td>\n",
       "      <td>SEDANG</td>\n",
       "    </tr>\n",
       "    <tr>\n",
       "      <th>2</th>\n",
       "      <td>4/3/2021</td>\n",
       "      <td>DKI1 (Bunderan HI)</td>\n",
       "      <td>25</td>\n",
       "      <td>42</td>\n",
       "      <td>20</td>\n",
       "      <td>8</td>\n",
       "      <td>18</td>\n",
       "      <td>22</td>\n",
       "      <td>42</td>\n",
       "      <td>PM25</td>\n",
       "      <td>BAIK</td>\n",
       "    </tr>\n",
       "    <tr>\n",
       "      <th>3</th>\n",
       "      <td>4/4/2021</td>\n",
       "      <td>DKI1 (Bunderan HI)</td>\n",
       "      <td>57</td>\n",
       "      <td>78</td>\n",
       "      <td>21</td>\n",
       "      <td>23</td>\n",
       "      <td>14</td>\n",
       "      <td>33</td>\n",
       "      <td>78</td>\n",
       "      <td>PM25</td>\n",
       "      <td>SEDANG</td>\n",
       "    </tr>\n",
       "    <tr>\n",
       "      <th>4</th>\n",
       "      <td>4/5/2021</td>\n",
       "      <td>DKI1 (Bunderan HI)</td>\n",
       "      <td>52</td>\n",
       "      <td>69</td>\n",
       "      <td>22</td>\n",
       "      <td>15</td>\n",
       "      <td>18</td>\n",
       "      <td>27</td>\n",
       "      <td>69</td>\n",
       "      <td>PM25</td>\n",
       "      <td>SEDANG</td>\n",
       "    </tr>\n",
       "    <tr>\n",
       "      <th>...</th>\n",
       "      <td>...</td>\n",
       "      <td>...</td>\n",
       "      <td>...</td>\n",
       "      <td>...</td>\n",
       "      <td>...</td>\n",
       "      <td>...</td>\n",
       "      <td>...</td>\n",
       "      <td>...</td>\n",
       "      <td>...</td>\n",
       "      <td>...</td>\n",
       "      <td>...</td>\n",
       "    </tr>\n",
       "    <tr>\n",
       "      <th>750</th>\n",
       "      <td>5/27/2021</td>\n",
       "      <td>DKI5 (Kebon Jeruk) Jakarta Barat</td>\n",
       "      <td>34</td>\n",
       "      <td>61</td>\n",
       "      <td>32</td>\n",
       "      <td>5</td>\n",
       "      <td>20</td>\n",
       "      <td>11</td>\n",
       "      <td>61</td>\n",
       "      <td>PM25</td>\n",
       "      <td>SEDANG</td>\n",
       "    </tr>\n",
       "    <tr>\n",
       "      <th>751</th>\n",
       "      <td>5/28/2021</td>\n",
       "      <td>DKI5 (Kebon Jeruk) Jakarta Barat</td>\n",
       "      <td>49</td>\n",
       "      <td>77</td>\n",
       "      <td>37</td>\n",
       "      <td>8</td>\n",
       "      <td>20</td>\n",
       "      <td>19</td>\n",
       "      <td>77</td>\n",
       "      <td>PM25</td>\n",
       "      <td>SEDANG</td>\n",
       "    </tr>\n",
       "    <tr>\n",
       "      <th>752</th>\n",
       "      <td>5/29/2021</td>\n",
       "      <td>DKI5 (Kebon Jeruk) Jakarta Barat</td>\n",
       "      <td>54</td>\n",
       "      <td>88</td>\n",
       "      <td>37</td>\n",
       "      <td>11</td>\n",
       "      <td>19</td>\n",
       "      <td>29</td>\n",
       "      <td>88</td>\n",
       "      <td>PM25</td>\n",
       "      <td>SEDANG</td>\n",
       "    </tr>\n",
       "    <tr>\n",
       "      <th>753</th>\n",
       "      <td>5/30/2021</td>\n",
       "      <td>DKI5 (Kebon Jeruk) Jakarta Barat</td>\n",
       "      <td>46</td>\n",
       "      <td>66</td>\n",
       "      <td>24</td>\n",
       "      <td>15</td>\n",
       "      <td>18</td>\n",
       "      <td>29</td>\n",
       "      <td>66</td>\n",
       "      <td>PM25</td>\n",
       "      <td>SEDANG</td>\n",
       "    </tr>\n",
       "    <tr>\n",
       "      <th>754</th>\n",
       "      <td>5/31/2021</td>\n",
       "      <td>DKI5 (Kebon Jeruk) Jakarta Barat</td>\n",
       "      <td>52</td>\n",
       "      <td>82</td>\n",
       "      <td>21</td>\n",
       "      <td>11</td>\n",
       "      <td>27</td>\n",
       "      <td>18</td>\n",
       "      <td>82</td>\n",
       "      <td>PM25</td>\n",
       "      <td>SEDANG</td>\n",
       "    </tr>\n",
       "  </tbody>\n",
       "</table>\n",
       "<p>639 rows × 11 columns</p>\n",
       "</div>"
      ],
      "text/plain": [
       "       tanggal                           stasiun pm10  ... max critical categori\n",
       "0     4/1/2021                DKI1 (Bunderan HI)   26  ...  42     PM25     BAIK\n",
       "1     4/2/2021                DKI1 (Bunderan HI)   41  ...  54     PM25   SEDANG\n",
       "2     4/3/2021                DKI1 (Bunderan HI)   25  ...  42     PM25     BAIK\n",
       "3     4/4/2021                DKI1 (Bunderan HI)   57  ...  78     PM25   SEDANG\n",
       "4     4/5/2021                DKI1 (Bunderan HI)   52  ...  69     PM25   SEDANG\n",
       "..         ...                               ...  ...  ...  ..      ...      ...\n",
       "750  5/27/2021  DKI5 (Kebon Jeruk) Jakarta Barat   34  ...  61     PM25   SEDANG\n",
       "751  5/28/2021  DKI5 (Kebon Jeruk) Jakarta Barat   49  ...  77     PM25   SEDANG\n",
       "752  5/29/2021  DKI5 (Kebon Jeruk) Jakarta Barat   54  ...  88     PM25   SEDANG\n",
       "753  5/30/2021  DKI5 (Kebon Jeruk) Jakarta Barat   46  ...  66     PM25   SEDANG\n",
       "754  5/31/2021  DKI5 (Kebon Jeruk) Jakarta Barat   52  ...  82     PM25   SEDANG\n",
       "\n",
       "[639 rows x 11 columns]"
      ]
     },
     "execution_count": 89,
     "metadata": {},
     "output_type": "execute_result"
    }
   ],
   "source": [
    "df=df.drop(df[df[\"so2\"]==\"---\"].index)\n",
    "df"
   ]
  },
  {
   "cell_type": "code",
   "execution_count": 90,
   "metadata": {
    "colab": {
     "base_uri": "https://localhost:8080/",
     "height": 423
    },
    "id": "oN42IZjX-5tH",
    "outputId": "719ef04e-1c2d-4b79-fdd5-6395dd89f0c4"
   },
   "outputs": [
    {
     "data": {
      "text/html": [
       "<div>\n",
       "<style scoped>\n",
       "    .dataframe tbody tr th:only-of-type {\n",
       "        vertical-align: middle;\n",
       "    }\n",
       "\n",
       "    .dataframe tbody tr th {\n",
       "        vertical-align: top;\n",
       "    }\n",
       "\n",
       "    .dataframe thead th {\n",
       "        text-align: right;\n",
       "    }\n",
       "</style>\n",
       "<table border=\"1\" class=\"dataframe\">\n",
       "  <thead>\n",
       "    <tr style=\"text-align: right;\">\n",
       "      <th></th>\n",
       "      <th>tanggal</th>\n",
       "      <th>stasiun</th>\n",
       "      <th>pm10</th>\n",
       "      <th>pm25</th>\n",
       "      <th>so2</th>\n",
       "      <th>co</th>\n",
       "      <th>o3</th>\n",
       "      <th>no2</th>\n",
       "      <th>max</th>\n",
       "      <th>critical</th>\n",
       "      <th>categori</th>\n",
       "    </tr>\n",
       "  </thead>\n",
       "  <tbody>\n",
       "    <tr>\n",
       "      <th>0</th>\n",
       "      <td>4/1/2021</td>\n",
       "      <td>DKI1 (Bunderan HI)</td>\n",
       "      <td>26</td>\n",
       "      <td>42</td>\n",
       "      <td>22</td>\n",
       "      <td>11</td>\n",
       "      <td>13</td>\n",
       "      <td>19</td>\n",
       "      <td>42</td>\n",
       "      <td>PM25</td>\n",
       "      <td>BAIK</td>\n",
       "    </tr>\n",
       "    <tr>\n",
       "      <th>1</th>\n",
       "      <td>4/2/2021</td>\n",
       "      <td>DKI1 (Bunderan HI)</td>\n",
       "      <td>41</td>\n",
       "      <td>54</td>\n",
       "      <td>27</td>\n",
       "      <td>11</td>\n",
       "      <td>17</td>\n",
       "      <td>19</td>\n",
       "      <td>54</td>\n",
       "      <td>PM25</td>\n",
       "      <td>SEDANG</td>\n",
       "    </tr>\n",
       "    <tr>\n",
       "      <th>2</th>\n",
       "      <td>4/3/2021</td>\n",
       "      <td>DKI1 (Bunderan HI)</td>\n",
       "      <td>25</td>\n",
       "      <td>42</td>\n",
       "      <td>20</td>\n",
       "      <td>8</td>\n",
       "      <td>18</td>\n",
       "      <td>22</td>\n",
       "      <td>42</td>\n",
       "      <td>PM25</td>\n",
       "      <td>BAIK</td>\n",
       "    </tr>\n",
       "    <tr>\n",
       "      <th>3</th>\n",
       "      <td>4/4/2021</td>\n",
       "      <td>DKI1 (Bunderan HI)</td>\n",
       "      <td>57</td>\n",
       "      <td>78</td>\n",
       "      <td>21</td>\n",
       "      <td>23</td>\n",
       "      <td>14</td>\n",
       "      <td>33</td>\n",
       "      <td>78</td>\n",
       "      <td>PM25</td>\n",
       "      <td>SEDANG</td>\n",
       "    </tr>\n",
       "    <tr>\n",
       "      <th>4</th>\n",
       "      <td>4/5/2021</td>\n",
       "      <td>DKI1 (Bunderan HI)</td>\n",
       "      <td>52</td>\n",
       "      <td>69</td>\n",
       "      <td>22</td>\n",
       "      <td>15</td>\n",
       "      <td>18</td>\n",
       "      <td>27</td>\n",
       "      <td>69</td>\n",
       "      <td>PM25</td>\n",
       "      <td>SEDANG</td>\n",
       "    </tr>\n",
       "    <tr>\n",
       "      <th>...</th>\n",
       "      <td>...</td>\n",
       "      <td>...</td>\n",
       "      <td>...</td>\n",
       "      <td>...</td>\n",
       "      <td>...</td>\n",
       "      <td>...</td>\n",
       "      <td>...</td>\n",
       "      <td>...</td>\n",
       "      <td>...</td>\n",
       "      <td>...</td>\n",
       "      <td>...</td>\n",
       "    </tr>\n",
       "    <tr>\n",
       "      <th>750</th>\n",
       "      <td>5/27/2021</td>\n",
       "      <td>DKI5 (Kebon Jeruk) Jakarta Barat</td>\n",
       "      <td>34</td>\n",
       "      <td>61</td>\n",
       "      <td>32</td>\n",
       "      <td>5</td>\n",
       "      <td>20</td>\n",
       "      <td>11</td>\n",
       "      <td>61</td>\n",
       "      <td>PM25</td>\n",
       "      <td>SEDANG</td>\n",
       "    </tr>\n",
       "    <tr>\n",
       "      <th>751</th>\n",
       "      <td>5/28/2021</td>\n",
       "      <td>DKI5 (Kebon Jeruk) Jakarta Barat</td>\n",
       "      <td>49</td>\n",
       "      <td>77</td>\n",
       "      <td>37</td>\n",
       "      <td>8</td>\n",
       "      <td>20</td>\n",
       "      <td>19</td>\n",
       "      <td>77</td>\n",
       "      <td>PM25</td>\n",
       "      <td>SEDANG</td>\n",
       "    </tr>\n",
       "    <tr>\n",
       "      <th>752</th>\n",
       "      <td>5/29/2021</td>\n",
       "      <td>DKI5 (Kebon Jeruk) Jakarta Barat</td>\n",
       "      <td>54</td>\n",
       "      <td>88</td>\n",
       "      <td>37</td>\n",
       "      <td>11</td>\n",
       "      <td>19</td>\n",
       "      <td>29</td>\n",
       "      <td>88</td>\n",
       "      <td>PM25</td>\n",
       "      <td>SEDANG</td>\n",
       "    </tr>\n",
       "    <tr>\n",
       "      <th>753</th>\n",
       "      <td>5/30/2021</td>\n",
       "      <td>DKI5 (Kebon Jeruk) Jakarta Barat</td>\n",
       "      <td>46</td>\n",
       "      <td>66</td>\n",
       "      <td>24</td>\n",
       "      <td>15</td>\n",
       "      <td>18</td>\n",
       "      <td>29</td>\n",
       "      <td>66</td>\n",
       "      <td>PM25</td>\n",
       "      <td>SEDANG</td>\n",
       "    </tr>\n",
       "    <tr>\n",
       "      <th>754</th>\n",
       "      <td>5/31/2021</td>\n",
       "      <td>DKI5 (Kebon Jeruk) Jakarta Barat</td>\n",
       "      <td>52</td>\n",
       "      <td>82</td>\n",
       "      <td>21</td>\n",
       "      <td>11</td>\n",
       "      <td>27</td>\n",
       "      <td>18</td>\n",
       "      <td>82</td>\n",
       "      <td>PM25</td>\n",
       "      <td>SEDANG</td>\n",
       "    </tr>\n",
       "  </tbody>\n",
       "</table>\n",
       "<p>636 rows × 11 columns</p>\n",
       "</div>"
      ],
      "text/plain": [
       "       tanggal                           stasiun pm10  ... max critical categori\n",
       "0     4/1/2021                DKI1 (Bunderan HI)   26  ...  42     PM25     BAIK\n",
       "1     4/2/2021                DKI1 (Bunderan HI)   41  ...  54     PM25   SEDANG\n",
       "2     4/3/2021                DKI1 (Bunderan HI)   25  ...  42     PM25     BAIK\n",
       "3     4/4/2021                DKI1 (Bunderan HI)   57  ...  78     PM25   SEDANG\n",
       "4     4/5/2021                DKI1 (Bunderan HI)   52  ...  69     PM25   SEDANG\n",
       "..         ...                               ...  ...  ...  ..      ...      ...\n",
       "750  5/27/2021  DKI5 (Kebon Jeruk) Jakarta Barat   34  ...  61     PM25   SEDANG\n",
       "751  5/28/2021  DKI5 (Kebon Jeruk) Jakarta Barat   49  ...  77     PM25   SEDANG\n",
       "752  5/29/2021  DKI5 (Kebon Jeruk) Jakarta Barat   54  ...  88     PM25   SEDANG\n",
       "753  5/30/2021  DKI5 (Kebon Jeruk) Jakarta Barat   46  ...  66     PM25   SEDANG\n",
       "754  5/31/2021  DKI5 (Kebon Jeruk) Jakarta Barat   52  ...  82     PM25   SEDANG\n",
       "\n",
       "[636 rows x 11 columns]"
      ]
     },
     "execution_count": 90,
     "metadata": {},
     "output_type": "execute_result"
    }
   ],
   "source": [
    "df=df.drop(df[df[\"pm25\"]==\"---\"].index)\n",
    "df"
   ]
  },
  {
   "cell_type": "code",
   "execution_count": 91,
   "metadata": {
    "colab": {
     "base_uri": "https://localhost:8080/"
    },
    "id": "A5aGogYj_JR4",
    "outputId": "a4ec7e71-f5e9-405e-f24c-c4bcecbe0dfa"
   },
   "outputs": [
    {
     "data": {
      "text/plain": [
       "tanggal     object\n",
       "stasiun     object\n",
       "pm10        object\n",
       "pm25        object\n",
       "so2         object\n",
       "co          object\n",
       "o3          object\n",
       "no2         object\n",
       "max          int64\n",
       "critical    object\n",
       "categori    object\n",
       "dtype: object"
      ]
     },
     "execution_count": 91,
     "metadata": {},
     "output_type": "execute_result"
    }
   ],
   "source": [
    "df=df.drop(df[df[\"pm10\"]==\"---\"].index)\n",
    "df.dtypes"
   ]
  },
  {
   "cell_type": "code",
   "execution_count": 92,
   "metadata": {
    "colab": {
     "base_uri": "https://localhost:8080/"
    },
    "id": "h05twQsFBad3",
    "outputId": "17a0c4ba-10bc-4cff-f0d8-0a2c3f9925b8"
   },
   "outputs": [
    {
     "name": "stdout",
     "output_type": "stream",
     "text": [
      "<class 'pandas.core.frame.DataFrame'>\n",
      "Int64Index: 615 entries, 0 to 754\n",
      "Data columns (total 11 columns):\n",
      " #   Column    Non-Null Count  Dtype \n",
      "---  ------    --------------  ----- \n",
      " 0   tanggal   615 non-null    object\n",
      " 1   stasiun   615 non-null    object\n",
      " 2   pm10      615 non-null    object\n",
      " 3   pm25      615 non-null    object\n",
      " 4   so2       615 non-null    object\n",
      " 5   co        615 non-null    object\n",
      " 6   o3        615 non-null    object\n",
      " 7   no2       615 non-null    object\n",
      " 8   max       615 non-null    int64 \n",
      " 9   critical  615 non-null    object\n",
      " 10  categori  615 non-null    object\n",
      "dtypes: int64(1), object(10)\n",
      "memory usage: 57.7+ KB\n"
     ]
    }
   ],
   "source": [
    "df.info()"
   ]
  },
  {
   "cell_type": "code",
   "execution_count": 93,
   "metadata": {
    "colab": {
     "base_uri": "https://localhost:8080/"
    },
    "id": "R5r8yBu-BrMU",
    "outputId": "c4793e4a-c6d6-46f2-c8fa-7493a11bd92b"
   },
   "outputs": [
    {
     "data": {
      "text/plain": [
       "tanggal     object\n",
       "stasiun     object\n",
       "pm10         int64\n",
       "pm25         int64\n",
       "so2          int64\n",
       "co           int64\n",
       "o3           int64\n",
       "no2          int64\n",
       "max          int64\n",
       "critical    object\n",
       "categori    object\n",
       "dtype: object"
      ]
     },
     "execution_count": 93,
     "metadata": {},
     "output_type": "execute_result"
    }
   ],
   "source": [
    "df = df.astype({\"tanggal\": object, \"stasiun\": object,\"pm10\":int,\"pm25\":int,\"so2\":int,\"co\":int,\"o3\":int,\"no2\":int,\"max\":int,\"critical\":object,\"categori\":object})\n",
    "df.dtypes"
   ]
  },
  {
   "cell_type": "markdown",
   "metadata": {
    "id": "cpTPhZz8QU66"
   },
   "source": [
    "##**Data Outliers**"
   ]
  },
  {
   "cell_type": "code",
   "execution_count": 94,
   "metadata": {
    "colab": {
     "base_uri": "https://localhost:8080/",
     "height": 1000
    },
    "id": "7tS6Qv_ilxfx",
    "outputId": "309cacbd-a14c-4ba9-d3bc-7aeae0ccd933"
   },
   "outputs": [
    {
     "name": "stderr",
     "output_type": "stream",
     "text": [
      "/usr/local/lib/python3.7/dist-packages/seaborn/_decorators.py:43: FutureWarning: Pass the following variable as a keyword arg: x. From version 0.12, the only valid positional argument will be `data`, and passing other arguments without an explicit keyword will result in an error or misinterpretation.\n",
      "  FutureWarning\n",
      "/usr/local/lib/python3.7/dist-packages/seaborn/_decorators.py:43: FutureWarning: Pass the following variable as a keyword arg: x. From version 0.12, the only valid positional argument will be `data`, and passing other arguments without an explicit keyword will result in an error or misinterpretation.\n",
      "  FutureWarning\n",
      "/usr/local/lib/python3.7/dist-packages/seaborn/_decorators.py:43: FutureWarning: Pass the following variable as a keyword arg: x. From version 0.12, the only valid positional argument will be `data`, and passing other arguments without an explicit keyword will result in an error or misinterpretation.\n",
      "  FutureWarning\n",
      "/usr/local/lib/python3.7/dist-packages/seaborn/_decorators.py:43: FutureWarning: Pass the following variable as a keyword arg: x. From version 0.12, the only valid positional argument will be `data`, and passing other arguments without an explicit keyword will result in an error or misinterpretation.\n",
      "  FutureWarning\n",
      "/usr/local/lib/python3.7/dist-packages/seaborn/_decorators.py:43: FutureWarning: Pass the following variable as a keyword arg: x. From version 0.12, the only valid positional argument will be `data`, and passing other arguments without an explicit keyword will result in an error or misinterpretation.\n",
      "  FutureWarning\n",
      "/usr/local/lib/python3.7/dist-packages/seaborn/_decorators.py:43: FutureWarning: Pass the following variable as a keyword arg: x. From version 0.12, the only valid positional argument will be `data`, and passing other arguments without an explicit keyword will result in an error or misinterpretation.\n",
      "  FutureWarning\n",
      "/usr/local/lib/python3.7/dist-packages/seaborn/_decorators.py:43: FutureWarning: Pass the following variable as a keyword arg: x. From version 0.12, the only valid positional argument will be `data`, and passing other arguments without an explicit keyword will result in an error or misinterpretation.\n",
      "  FutureWarning\n"
     ]
    },
    {
     "data": {
      "text/plain": [
       "<matplotlib.axes._subplots.AxesSubplot at 0x7fa927cb8410>"
      ]
     },
     "execution_count": 94,
     "metadata": {},
     "output_type": "execute_result"
    },
    {
     "data": {
      "image/png": "[encoded data removed]",
      "text/plain": [
       "<Figure size 720x360 with 1 Axes>"
      ]
     },
     "metadata": {
      "needs_background": "light"
     },
     "output_type": "display_data"
    },
    {
     "data": {
      "image/png": "[encoded data removed]",
      "text/plain": [
       "<Figure size 720x360 with 1 Axes>"
      ]
     },
     "metadata": {
      "needs_background": "light"
     },
     "output_type": "display_data"
    },
    {
     "data": {
      "image/png": "[encoded data removed]",
      "text/plain": [
       "<Figure size 720x360 with 1 Axes>"
      ]
     },
     "metadata": {
      "needs_background": "light"
     },
     "output_type": "display_data"
    },
    {
     "data": {
      "image/png": "[encoded data removed]",
      "text/plain": [
       "<Figure size 720x360 with 1 Axes>"
      ]
     },
     "metadata": {
      "needs_background": "light"
     },
     "output_type": "display_data"
    },
    {
     "data": {
      "image/png": "[encoded data removed]",
      "text/plain": [
       "<Figure size 720x360 with 1 Axes>"
      ]
     },
     "metadata": {
      "needs_background": "light"
     },
     "output_type": "display_data"
    },
    {
     "data": {
      "image/png": "[encoded data removed]",
      "text/plain": [
       "<Figure size 720x360 with 1 Axes>"
      ]
     },
     "metadata": {
      "needs_background": "light"
     },
     "output_type": "display_data"
    },
    {
     "data": {
      "image/png": "[encoded data removed]",
      "text/plain": [
       "<Figure size 720x360 with 1 Axes>"
      ]
     },
     "metadata": {
      "needs_background": "light"
     },
     "output_type": "display_data"
    }
   ],
   "source": [
    "plt.figure(figsize = (10, 5))\n",
    "sns.boxplot(df[\"pm10\"])\n",
    "plt.figure(figsize = (10, 5))\n",
    "sns.boxplot(df[\"pm25\"])\n",
    "plt.figure(figsize = (10, 5))\n",
    "sns.boxplot(df[\"so2\"])\n",
    "plt.figure(figsize = (10, 5))\n",
    "sns.boxplot(df[\"co\"])\n",
    "plt.figure(figsize = (10, 5))\n",
    "sns.boxplot(df[\"o3\"])\n",
    "plt.figure(figsize = (10, 5))\n",
    "sns.boxplot(df[\"no2\"])\n",
    "plt.figure(figsize = (10, 5))\n",
    "sns.boxplot(df[\"max\"])"
   ]
  },
  {
   "cell_type": "code",
   "execution_count": 95,
   "metadata": {
    "colab": {
     "base_uri": "https://localhost:8080/",
     "height": 268
    },
    "id": "0fcJFV9fMSmm",
    "outputId": "5cb50968-d259-4f55-d9b4-97676653bb50"
   },
   "outputs": [
    {
     "data": {
      "text/html": [
       "<div>\n",
       "<style scoped>\n",
       "    .dataframe tbody tr th:only-of-type {\n",
       "        vertical-align: middle;\n",
       "    }\n",
       "\n",
       "    .dataframe tbody tr th {\n",
       "        vertical-align: top;\n",
       "    }\n",
       "\n",
       "    .dataframe thead th {\n",
       "        text-align: right;\n",
       "    }\n",
       "</style>\n",
       "<table border=\"1\" class=\"dataframe\">\n",
       "  <thead>\n",
       "    <tr style=\"text-align: right;\">\n",
       "      <th></th>\n",
       "      <th>pm10</th>\n",
       "      <th>pm25</th>\n",
       "      <th>so2</th>\n",
       "      <th>co</th>\n",
       "      <th>o3</th>\n",
       "      <th>no2</th>\n",
       "      <th>max</th>\n",
       "    </tr>\n",
       "  </thead>\n",
       "  <tbody>\n",
       "    <tr>\n",
       "      <th>pm10</th>\n",
       "      <td>1.000000</td>\n",
       "      <td>0.859112</td>\n",
       "      <td>0.322199</td>\n",
       "      <td>0.478298</td>\n",
       "      <td>0.270345</td>\n",
       "      <td>0.418303</td>\n",
       "      <td>0.859248</td>\n",
       "    </tr>\n",
       "    <tr>\n",
       "      <th>pm25</th>\n",
       "      <td>0.859112</td>\n",
       "      <td>1.000000</td>\n",
       "      <td>0.306821</td>\n",
       "      <td>0.454374</td>\n",
       "      <td>0.139406</td>\n",
       "      <td>0.346635</td>\n",
       "      <td>0.955491</td>\n",
       "    </tr>\n",
       "    <tr>\n",
       "      <th>so2</th>\n",
       "      <td>0.322199</td>\n",
       "      <td>0.306821</td>\n",
       "      <td>1.000000</td>\n",
       "      <td>-0.024770</td>\n",
       "      <td>0.196586</td>\n",
       "      <td>0.047326</td>\n",
       "      <td>0.262820</td>\n",
       "    </tr>\n",
       "    <tr>\n",
       "      <th>co</th>\n",
       "      <td>0.478298</td>\n",
       "      <td>0.454374</td>\n",
       "      <td>-0.024770</td>\n",
       "      <td>1.000000</td>\n",
       "      <td>0.093547</td>\n",
       "      <td>0.462672</td>\n",
       "      <td>0.454185</td>\n",
       "    </tr>\n",
       "    <tr>\n",
       "      <th>o3</th>\n",
       "      <td>0.270345</td>\n",
       "      <td>0.139406</td>\n",
       "      <td>0.196586</td>\n",
       "      <td>0.093547</td>\n",
       "      <td>1.000000</td>\n",
       "      <td>-0.171248</td>\n",
       "      <td>0.286354</td>\n",
       "    </tr>\n",
       "    <tr>\n",
       "      <th>no2</th>\n",
       "      <td>0.418303</td>\n",
       "      <td>0.346635</td>\n",
       "      <td>0.047326</td>\n",
       "      <td>0.462672</td>\n",
       "      <td>-0.171248</td>\n",
       "      <td>1.000000</td>\n",
       "      <td>0.321588</td>\n",
       "    </tr>\n",
       "    <tr>\n",
       "      <th>max</th>\n",
       "      <td>0.859248</td>\n",
       "      <td>0.955491</td>\n",
       "      <td>0.262820</td>\n",
       "      <td>0.454185</td>\n",
       "      <td>0.286354</td>\n",
       "      <td>0.321588</td>\n",
       "      <td>1.000000</td>\n",
       "    </tr>\n",
       "  </tbody>\n",
       "</table>\n",
       "</div>"
      ],
      "text/plain": [
       "          pm10      pm25       so2        co        o3       no2       max\n",
       "pm10  1.000000  0.859112  0.322199  0.478298  0.270345  0.418303  0.859248\n",
       "pm25  0.859112  1.000000  0.306821  0.454374  0.139406  0.346635  0.955491\n",
       "so2   0.322199  0.306821  1.000000 -0.024770  0.196586  0.047326  0.262820\n",
       "co    0.478298  0.454374 -0.024770  1.000000  0.093547  0.462672  0.454185\n",
       "o3    0.270345  0.139406  0.196586  0.093547  1.000000 -0.171248  0.286354\n",
       "no2   0.418303  0.346635  0.047326  0.462672 -0.171248  1.000000  0.321588\n",
       "max   0.859248  0.955491  0.262820  0.454185  0.286354  0.321588  1.000000"
      ]
     },
     "execution_count": 95,
     "metadata": {},
     "output_type": "execute_result"
    }
   ],
   "source": [
    "df.corr()"
   ]
  },
  {
   "cell_type": "code",
   "execution_count": 96,
   "metadata": {
    "colab": {
     "base_uri": "https://localhost:8080/"
    },
    "id": "SbT4o5OrZ54o",
    "outputId": "64e75f7b-89f3-40ef-c263-7ed3faa4b932"
   },
   "outputs": [
    {
     "data": {
      "text/plain": [
       "0      42\n",
       "1      54\n",
       "2      42\n",
       "3      78\n",
       "4      69\n",
       "       ..\n",
       "750    61\n",
       "751    77\n",
       "752    88\n",
       "753    66\n",
       "754    82\n",
       "Name: pm25, Length: 615, dtype: int64"
      ]
     },
     "execution_count": 96,
     "metadata": {},
     "output_type": "execute_result"
    }
   ],
   "source": [
    "df[\"pm25\"]"
   ]
  },
  {
   "cell_type": "code",
   "execution_count": 97,
   "metadata": {
    "id": "u3KmSmeoa26r"
   },
   "outputs": [],
   "source": [
    "def detect_outliers(df,x):\n",
    "    Q1 = df[x].quantile(q=0.25)\n",
    "    Q3 = df[x].quantile(q=0.75)\n",
    "    IQR = Q3-Q1\n",
    "    return df[(df[x] < Q1-1.5*IQR) | (df[x] > Q3+1.5*IQR)]"
   ]
  },
  {
   "cell_type": "code",
   "execution_count": 98,
   "metadata": {
    "colab": {
     "base_uri": "https://localhost:8080/"
    },
    "id": "wPiYZA6ydCKm",
    "outputId": "bc389e1d-b1d4-4811-8ead-8edbba25e89e"
   },
   "outputs": [
    {
     "data": {
      "text/plain": [
       "Int64Index([116], dtype='int64')"
      ]
     },
     "execution_count": 98,
     "metadata": {},
     "output_type": "execute_result"
    }
   ],
   "source": [
    "detect_outliers(df, \"pm25\").index"
   ]
  },
  {
   "cell_type": "code",
   "execution_count": 99,
   "metadata": {
    "id": "nTGWWYhAhm5J"
   },
   "outputs": [],
   "source": [
    "df.loc[116,'pm25']\n",
    "df['pm25'].replace(df.loc[116,'pm25'],df['pm25'].mean(),inplace=True)"
   ]
  },
  {
   "cell_type": "code",
   "execution_count": 100,
   "metadata": {
    "colab": {
     "base_uri": "https://localhost:8080/"
    },
    "id": "sQQptC1R-pVm",
    "outputId": "672fe889-e426-43da-9109-533ed66b4128"
   },
   "outputs": [
    {
     "data": {
      "text/plain": [
       "71.2959349593496"
      ]
     },
     "execution_count": 100,
     "metadata": {},
     "output_type": "execute_result"
    }
   ],
   "source": [
    "df.loc[116,'pm25']"
   ]
  },
  {
   "cell_type": "code",
   "execution_count": 101,
   "metadata": {
    "colab": {
     "base_uri": "https://localhost:8080/"
    },
    "id": "7enPHmUip3iR",
    "outputId": "2cc1e169-4ace-41af-f908-221056a4bddf"
   },
   "outputs": [
    {
     "data": {
      "text/plain": [
       "Int64Index([654], dtype='int64')"
      ]
     },
     "execution_count": 101,
     "metadata": {},
     "output_type": "execute_result"
    }
   ],
   "source": [
    "detect_outliers(df, \"so2\").index"
   ]
  },
  {
   "cell_type": "code",
   "execution_count": 102,
   "metadata": {
    "id": "031-G7sMwu-c"
   },
   "outputs": [],
   "source": [
    "df.loc[654,'so2']\n",
    "df['so2'].replace(df.loc[654,'so2'],df['so2'].mean(),inplace=True)"
   ]
  },
  {
   "cell_type": "code",
   "execution_count": 103,
   "metadata": {
    "colab": {
     "base_uri": "https://localhost:8080/"
    },
    "id": "3IO78O_Zq5aZ",
    "outputId": "78878b22-acfb-4238-ac6e-ea488f958eed"
   },
   "outputs": [
    {
     "data": {
      "text/plain": [
       "Int64Index([ 93, 104, 123, 150, 194, 262, 278, 298, 312, 314, 329, 343, 345,\n",
       "            357, 360, 373, 374, 375, 574, 606, 715, 716],\n",
       "           dtype='int64')"
      ]
     },
     "execution_count": 103,
     "metadata": {},
     "output_type": "execute_result"
    }
   ],
   "source": [
    "detect_outliers(df, \"co\").index"
   ]
  },
  {
   "cell_type": "code",
   "execution_count": 104,
   "metadata": {
    "id": "flJ4afKHw2L9"
   },
   "outputs": [],
   "source": [
    "df['co'].replace(df.loc[93,'co'],df['co'].mean(),inplace=True)\n",
    "df['co'].replace(df.loc[104,'co'],df['co'].mean(),inplace=True)\n",
    "df['co'].replace(df.loc[123,'co'],df['co'].mean(),inplace=True)\n",
    "df['co'].replace(df.loc[150,'co'],df['co'].mean(),inplace=True)\n",
    "df['co'].replace(df.loc[194,'co'],df['co'].mean(),inplace=True)\n",
    "df['co'].replace(df.loc[262,'co'],df['co'].mean(),inplace=True)\n",
    "df['co'].replace(df.loc[278,'co'],df['co'].mean(),inplace=True)\n",
    "df['co'].replace(df.loc[298,'co'],df['co'].mean(),inplace=True)\n",
    "df['co'].replace(df.loc[312,'co'],df['co'].mean(),inplace=True)\n",
    "df['co'].replace(df.loc[314,'co'],df['co'].mean(),inplace=True)\n",
    "df['co'].replace(df.loc[329,'co'],df['co'].mean(),inplace=True)\n",
    "df['co'].replace(df.loc[343,'co'],df['co'].mean(),inplace=True)\n",
    "df['co'].replace(df.loc[345,'co'],df['co'].mean(),inplace=True)\n",
    "df['co'].replace(df.loc[357,'co'],df['co'].mean(),inplace=True)\n",
    "df['co'].replace(df.loc[360,'co'],df['co'].mean(),inplace=True)\n",
    "df['co'].replace(df.loc[373,'co'],df['co'].mean(),inplace=True)\n",
    "df['co'].replace(df.loc[374,'co'],df['co'].mean(),inplace=True)\n",
    "df['co'].replace(df.loc[375,'co'],df['co'].mean(),inplace=True)\n",
    "df['co'].replace(df.loc[574,'co'],df['co'].mean(),inplace=True)\n",
    "df['co'].replace(df.loc[606,'co'],df['co'].mean(),inplace=True)\n",
    "df['co'].replace(df.loc[715,'co'],df['co'].mean(),inplace=True)\n",
    "df['co'].replace(df.loc[716,'co'],df['co'].mean(),inplace=True)"
   ]
  },
  {
   "cell_type": "code",
   "execution_count": 105,
   "metadata": {
    "colab": {
     "base_uri": "https://localhost:8080/"
    },
    "id": "vfAmkVCkstzh",
    "outputId": "bed7db07-3da1-4daf-a682-8b5b77f9b4bb"
   },
   "outputs": [
    {
     "data": {
      "text/plain": [
       "Int64Index([53, 329, 332, 337, 338, 340, 343, 344, 345, 346, 493, 503, 654,\n",
       "            661, 668, 669],\n",
       "           dtype='int64')"
      ]
     },
     "execution_count": 105,
     "metadata": {},
     "output_type": "execute_result"
    }
   ],
   "source": [
    "detect_outliers(df, \"o3\").index"
   ]
  },
  {
   "cell_type": "code",
   "execution_count": 106,
   "metadata": {
    "id": "s03SA39a0bij"
   },
   "outputs": [],
   "source": [
    "df['o3'].replace(df.loc[53,'o3'],df['o3'].mean(),inplace=True)\n",
    "df['o3'].replace(df.loc[329,'o3'],df['o3'].mean(),inplace=True)\n",
    "df['o3'].replace(df.loc[337,'o3'],df['o3'].mean(),inplace=True)\n",
    "df['o3'].replace(df.loc[338,'o3'],df['o3'].mean(),inplace=True)\n",
    "df['o3'].replace(df.loc[340,'o3'],df['o3'].mean(),inplace=True)\n",
    "df['o3'].replace(df.loc[343,'o3'],df['o3'].mean(),inplace=True)\n",
    "df['o3'].replace(df.loc[344,'o3'],df['o3'].mean(),inplace=True)\n",
    "df['o3'].replace(df.loc[345,'o3'],df['o3'].mean(),inplace=True)\n",
    "df['o3'].replace(df.loc[346,'o3'],df['o3'].mean(),inplace=True)\n",
    "df['o3'].replace(df.loc[493,'o3'],df['o3'].mean(),inplace=True)\n",
    "df['o3'].replace(df.loc[503,'o3'],df['o3'].mean(),inplace=True)\n",
    "df['o3'].replace(df.loc[654,'o3'],df['o3'].mean(),inplace=True)\n",
    "df['o3'].replace(df.loc[661,'o3'],df['o3'].mean(),inplace=True)\n",
    "df['o3'].replace(df.loc[668,'o3'],df['o3'].mean(),inplace=True)\n",
    "df['o3'].replace(df.loc[669,'o3'],df['o3'].mean(),inplace=True)"
   ]
  },
  {
   "cell_type": "code",
   "execution_count": 107,
   "metadata": {
    "colab": {
     "base_uri": "https://localhost:8080/"
    },
    "id": "DtbQGUOWsyIP",
    "outputId": "f7755c3d-9894-4af7-e995-a311479a42cf"
   },
   "outputs": [
    {
     "data": {
      "text/plain": [
       "Int64Index([ 12,  14,  15,  16,  21,  22,  23,  28,  29, 134, 135, 273, 283,\n",
       "            461, 462, 492, 574, 578, 604, 605, 606, 623, 746],\n",
       "           dtype='int64')"
      ]
     },
     "execution_count": 107,
     "metadata": {},
     "output_type": "execute_result"
    }
   ],
   "source": [
    "detect_outliers(df, \"no2\").index"
   ]
  },
  {
   "cell_type": "code",
   "execution_count": 108,
   "metadata": {
    "id": "ph0w6c-l02US"
   },
   "outputs": [],
   "source": [
    "df['no2'].replace(df.loc[12,'no2'],df['no2'].mean(),inplace=True)\n",
    "df['no2'].replace(df.loc[14,'no2'],df['no2'].mean(),inplace=True)\n",
    "df['no2'].replace(df.loc[15,'no2'],df['no2'].mean(),inplace=True)\n",
    "df['no2'].replace(df.loc[16,'no2'],df['no2'].mean(),inplace=True)\n",
    "df['no2'].replace(df.loc[21,'no2'],df['no2'].mean(),inplace=True)\n",
    "df['no2'].replace(df.loc[22,'no2'],df['no2'].mean(),inplace=True)\n",
    "df['no2'].replace(df.loc[23,'no2'],df['no2'].mean(),inplace=True)\n",
    "df['no2'].replace(df.loc[28,'no2'],df['no2'].mean(),inplace=True)\n",
    "df['no2'].replace(df.loc[29,'no2'],df['no2'].mean(),inplace=True)\n",
    "df['no2'].replace(df.loc[134,'no2'],df['no2'].mean(),inplace=True)\n",
    "df['no2'].replace(df.loc[135,'no2'],df['no2'].mean(),inplace=True)\n",
    "df['no2'].replace(df.loc[273,'no2'],df['no2'].mean(),inplace=True)\n",
    "df['no2'].replace(df.loc[283,'no2'],df['no2'].mean(),inplace=True)\n",
    "df['no2'].replace(df.loc[461,'no2'],df['no2'].mean(),inplace=True)\n",
    "df['no2'].replace(df.loc[462,'no2'],df['no2'].mean(),inplace=True)\n",
    "df['no2'].replace(df.loc[492,'no2'],df['no2'].mean(),inplace=True)\n",
    "df['no2'].replace(df.loc[574,'no2'],df['no2'].mean(),inplace=True)\n",
    "df['no2'].replace(df.loc[578,'no2'],df['no2'].mean(),inplace=True)\n",
    "df['no2'].replace(df.loc[604,'no2'],df['no2'].mean(),inplace=True)\n",
    "df['no2'].replace(df.loc[605,'no2'],df['no2'].mean(),inplace=True)\n",
    "df['no2'].replace(df.loc[606,'no2'],df['no2'].mean(),inplace=True)\n",
    "df['no2'].replace(df.loc[623,'no2'],df['no2'].mean(),inplace=True)\n",
    "df['no2'].replace(df.loc[746,'no2'],df['no2'].mean(),inplace=True)"
   ]
  },
  {
   "cell_type": "code",
   "execution_count": 109,
   "metadata": {
    "colab": {
     "base_uri": "https://localhost:8080/"
    },
    "id": "kZ5J8iYps0Lj",
    "outputId": "92e3093a-b8f2-4211-d769-fae792ce364b"
   },
   "outputs": [
    {
     "data": {
      "text/plain": [
       "Int64Index([116, 345, 668], dtype='int64')"
      ]
     },
     "execution_count": 109,
     "metadata": {},
     "output_type": "execute_result"
    }
   ],
   "source": [
    "detect_outliers(df, \"max\").index"
   ]
  },
  {
   "cell_type": "code",
   "execution_count": 110,
   "metadata": {
    "id": "Kmr7pPuUs1Sx"
   },
   "outputs": [],
   "source": [
    "df['max'].replace(df.loc[116,'max'],df['max'].mean(),inplace=True)\n",
    "df['max'].replace(df.loc[345,'max'],df['max'].mean(),inplace=True)\n",
    "df['max'].replace(df.loc[668,'max'],df['max'].mean(),inplace=True)"
   ]
  },
  {
   "cell_type": "markdown",
   "metadata": {
    "id": "TU7t2q2r_iBQ"
   },
   "source": [
    "##**Data Unrelated**"
   ]
  },
  {
   "cell_type": "code",
   "execution_count": 111,
   "metadata": {
    "colab": {
     "base_uri": "https://localhost:8080/",
     "height": 423
    },
    "id": "7z87Zgat_-KH",
    "outputId": "c39c854b-fbbd-4e35-c9ca-6bb1855e1990"
   },
   "outputs": [
    {
     "data": {
      "text/html": [
       "<div>\n",
       "<style scoped>\n",
       "    .dataframe tbody tr th:only-of-type {\n",
       "        vertical-align: middle;\n",
       "    }\n",
       "\n",
       "    .dataframe tbody tr th {\n",
       "        vertical-align: top;\n",
       "    }\n",
       "\n",
       "    .dataframe thead th {\n",
       "        text-align: right;\n",
       "    }\n",
       "</style>\n",
       "<table border=\"1\" class=\"dataframe\">\n",
       "  <thead>\n",
       "    <tr style=\"text-align: right;\">\n",
       "      <th></th>\n",
       "      <th>tanggal</th>\n",
       "      <th>stasiun</th>\n",
       "      <th>pm10</th>\n",
       "      <th>pm25</th>\n",
       "      <th>so2</th>\n",
       "      <th>co</th>\n",
       "      <th>o3</th>\n",
       "      <th>no2</th>\n",
       "      <th>max</th>\n",
       "      <th>critical</th>\n",
       "      <th>categori</th>\n",
       "    </tr>\n",
       "  </thead>\n",
       "  <tbody>\n",
       "    <tr>\n",
       "      <th>0</th>\n",
       "      <td>4/1/2021</td>\n",
       "      <td>DKI1 (Bunderan HI)</td>\n",
       "      <td>26</td>\n",
       "      <td>42.0</td>\n",
       "      <td>22.0</td>\n",
       "      <td>11.0</td>\n",
       "      <td>13.0</td>\n",
       "      <td>19.0</td>\n",
       "      <td>42.0</td>\n",
       "      <td>PM25</td>\n",
       "      <td>BAIK</td>\n",
       "    </tr>\n",
       "    <tr>\n",
       "      <th>1</th>\n",
       "      <td>4/2/2021</td>\n",
       "      <td>DKI1 (Bunderan HI)</td>\n",
       "      <td>41</td>\n",
       "      <td>54.0</td>\n",
       "      <td>27.0</td>\n",
       "      <td>11.0</td>\n",
       "      <td>17.0</td>\n",
       "      <td>19.0</td>\n",
       "      <td>54.0</td>\n",
       "      <td>PM25</td>\n",
       "      <td>SEDANG</td>\n",
       "    </tr>\n",
       "    <tr>\n",
       "      <th>2</th>\n",
       "      <td>4/3/2021</td>\n",
       "      <td>DKI1 (Bunderan HI)</td>\n",
       "      <td>25</td>\n",
       "      <td>42.0</td>\n",
       "      <td>20.0</td>\n",
       "      <td>8.0</td>\n",
       "      <td>18.0</td>\n",
       "      <td>22.0</td>\n",
       "      <td>42.0</td>\n",
       "      <td>PM25</td>\n",
       "      <td>BAIK</td>\n",
       "    </tr>\n",
       "    <tr>\n",
       "      <th>3</th>\n",
       "      <td>4/4/2021</td>\n",
       "      <td>DKI1 (Bunderan HI)</td>\n",
       "      <td>57</td>\n",
       "      <td>78.0</td>\n",
       "      <td>21.0</td>\n",
       "      <td>23.0</td>\n",
       "      <td>14.0</td>\n",
       "      <td>33.0</td>\n",
       "      <td>78.0</td>\n",
       "      <td>PM25</td>\n",
       "      <td>SEDANG</td>\n",
       "    </tr>\n",
       "    <tr>\n",
       "      <th>4</th>\n",
       "      <td>4/5/2021</td>\n",
       "      <td>DKI1 (Bunderan HI)</td>\n",
       "      <td>52</td>\n",
       "      <td>69.0</td>\n",
       "      <td>22.0</td>\n",
       "      <td>15.0</td>\n",
       "      <td>18.0</td>\n",
       "      <td>27.0</td>\n",
       "      <td>69.0</td>\n",
       "      <td>PM25</td>\n",
       "      <td>SEDANG</td>\n",
       "    </tr>\n",
       "    <tr>\n",
       "      <th>...</th>\n",
       "      <td>...</td>\n",
       "      <td>...</td>\n",
       "      <td>...</td>\n",
       "      <td>...</td>\n",
       "      <td>...</td>\n",
       "      <td>...</td>\n",
       "      <td>...</td>\n",
       "      <td>...</td>\n",
       "      <td>...</td>\n",
       "      <td>...</td>\n",
       "      <td>...</td>\n",
       "    </tr>\n",
       "    <tr>\n",
       "      <th>750</th>\n",
       "      <td>5/27/2021</td>\n",
       "      <td>DKI5 (Kebon Jeruk) Jakarta Barat</td>\n",
       "      <td>34</td>\n",
       "      <td>61.0</td>\n",
       "      <td>32.0</td>\n",
       "      <td>5.0</td>\n",
       "      <td>20.0</td>\n",
       "      <td>11.0</td>\n",
       "      <td>61.0</td>\n",
       "      <td>PM25</td>\n",
       "      <td>SEDANG</td>\n",
       "    </tr>\n",
       "    <tr>\n",
       "      <th>751</th>\n",
       "      <td>5/28/2021</td>\n",
       "      <td>DKI5 (Kebon Jeruk) Jakarta Barat</td>\n",
       "      <td>49</td>\n",
       "      <td>77.0</td>\n",
       "      <td>37.0</td>\n",
       "      <td>8.0</td>\n",
       "      <td>20.0</td>\n",
       "      <td>19.0</td>\n",
       "      <td>77.0</td>\n",
       "      <td>PM25</td>\n",
       "      <td>SEDANG</td>\n",
       "    </tr>\n",
       "    <tr>\n",
       "      <th>752</th>\n",
       "      <td>5/29/2021</td>\n",
       "      <td>DKI5 (Kebon Jeruk) Jakarta Barat</td>\n",
       "      <td>54</td>\n",
       "      <td>88.0</td>\n",
       "      <td>37.0</td>\n",
       "      <td>11.0</td>\n",
       "      <td>19.0</td>\n",
       "      <td>29.0</td>\n",
       "      <td>88.0</td>\n",
       "      <td>PM25</td>\n",
       "      <td>SEDANG</td>\n",
       "    </tr>\n",
       "    <tr>\n",
       "      <th>753</th>\n",
       "      <td>5/30/2021</td>\n",
       "      <td>DKI5 (Kebon Jeruk) Jakarta Barat</td>\n",
       "      <td>46</td>\n",
       "      <td>66.0</td>\n",
       "      <td>24.0</td>\n",
       "      <td>15.0</td>\n",
       "      <td>18.0</td>\n",
       "      <td>29.0</td>\n",
       "      <td>66.0</td>\n",
       "      <td>PM25</td>\n",
       "      <td>SEDANG</td>\n",
       "    </tr>\n",
       "    <tr>\n",
       "      <th>754</th>\n",
       "      <td>5/31/2021</td>\n",
       "      <td>DKI5 (Kebon Jeruk) Jakarta Barat</td>\n",
       "      <td>52</td>\n",
       "      <td>82.0</td>\n",
       "      <td>21.0</td>\n",
       "      <td>11.0</td>\n",
       "      <td>27.0</td>\n",
       "      <td>18.0</td>\n",
       "      <td>82.0</td>\n",
       "      <td>PM25</td>\n",
       "      <td>SEDANG</td>\n",
       "    </tr>\n",
       "  </tbody>\n",
       "</table>\n",
       "<p>615 rows × 11 columns</p>\n",
       "</div>"
      ],
      "text/plain": [
       "       tanggal                           stasiun  pm10  ...   max  critical  categori\n",
       "0     4/1/2021                DKI1 (Bunderan HI)    26  ...  42.0      PM25      BAIK\n",
       "1     4/2/2021                DKI1 (Bunderan HI)    41  ...  54.0      PM25    SEDANG\n",
       "2     4/3/2021                DKI1 (Bunderan HI)    25  ...  42.0      PM25      BAIK\n",
       "3     4/4/2021                DKI1 (Bunderan HI)    57  ...  78.0      PM25    SEDANG\n",
       "4     4/5/2021                DKI1 (Bunderan HI)    52  ...  69.0      PM25    SEDANG\n",
       "..         ...                               ...   ...  ...   ...       ...       ...\n",
       "750  5/27/2021  DKI5 (Kebon Jeruk) Jakarta Barat    34  ...  61.0      PM25    SEDANG\n",
       "751  5/28/2021  DKI5 (Kebon Jeruk) Jakarta Barat    49  ...  77.0      PM25    SEDANG\n",
       "752  5/29/2021  DKI5 (Kebon Jeruk) Jakarta Barat    54  ...  88.0      PM25    SEDANG\n",
       "753  5/30/2021  DKI5 (Kebon Jeruk) Jakarta Barat    46  ...  66.0      PM25    SEDANG\n",
       "754  5/31/2021  DKI5 (Kebon Jeruk) Jakarta Barat    52  ...  82.0      PM25    SEDANG\n",
       "\n",
       "[615 rows x 11 columns]"
      ]
     },
     "execution_count": 111,
     "metadata": {},
     "output_type": "execute_result"
    }
   ],
   "source": [
    "df"
   ]
  },
  {
   "cell_type": "code",
   "execution_count": 112,
   "metadata": {
    "colab": {
     "base_uri": "https://localhost:8080/"
    },
    "id": "2feAJDN7AAjT",
    "outputId": "352b9239-11fc-430c-c115-8b69d7b80388"
   },
   "outputs": [
    {
     "name": "stdout",
     "output_type": "stream",
     "text": [
      "<class 'pandas.core.frame.DataFrame'>\n",
      "Int64Index: 615 entries, 0 to 754\n",
      "Data columns (total 11 columns):\n",
      " #   Column    Non-Null Count  Dtype  \n",
      "---  ------    --------------  -----  \n",
      " 0   tanggal   615 non-null    object \n",
      " 1   stasiun   615 non-null    object \n",
      " 2   pm10      615 non-null    int64  \n",
      " 3   pm25      615 non-null    float64\n",
      " 4   so2       615 non-null    float64\n",
      " 5   co        615 non-null    float64\n",
      " 6   o3        615 non-null    float64\n",
      " 7   no2       615 non-null    float64\n",
      " 8   max       615 non-null    float64\n",
      " 9   critical  615 non-null    object \n",
      " 10  categori  615 non-null    object \n",
      "dtypes: float64(6), int64(1), object(4)\n",
      "memory usage: 77.7+ KB\n"
     ]
    }
   ],
   "source": [
    "df.info()"
   ]
  },
  {
   "cell_type": "markdown",
   "metadata": {
    "id": "WmYvntgeAF2L"
   },
   "source": [
    "**Keterangan:**\n",
    "Data `tanggal` dan `stasiun` tidak mempengaruhi kategori pencemaran udara, sehingga data tersebut dapat diabaikan dalam data preparation."
   ]
  },
  {
   "cell_type": "code",
   "execution_count": 113,
   "metadata": {
    "id": "Fw_TzhlKAjW8"
   },
   "outputs": [],
   "source": [
    "#hapus column tanggal\n",
    "df.drop(['tanggal'], axis=1, inplace=True)"
   ]
  },
  {
   "cell_type": "code",
   "execution_count": 114,
   "metadata": {
    "id": "U124yErZAt6b"
   },
   "outputs": [],
   "source": [
    "#hapus column tanggal\n",
    "df.drop(['stasiun'], axis=1, inplace=True)"
   ]
  },
  {
   "cell_type": "markdown",
   "metadata": {
    "id": "5-TPOHl4A4KD"
   },
   "source": [
    "##**Categorical Encoding**"
   ]
  },
  {
   "cell_type": "code",
   "execution_count": 115,
   "metadata": {
    "colab": {
     "base_uri": "https://localhost:8080/"
    },
    "id": "VdqC79DiA_NQ",
    "outputId": "02abe502-3cd7-4820-d616-9c2f8f1f2e92"
   },
   "outputs": [
    {
     "name": "stdout",
     "output_type": "stream",
     "text": [
      "<class 'pandas.core.frame.DataFrame'>\n",
      "Int64Index: 615 entries, 0 to 754\n",
      "Data columns (total 9 columns):\n",
      " #   Column    Non-Null Count  Dtype  \n",
      "---  ------    --------------  -----  \n",
      " 0   pm10      615 non-null    int64  \n",
      " 1   pm25      615 non-null    float64\n",
      " 2   so2       615 non-null    float64\n",
      " 3   co        615 non-null    float64\n",
      " 4   o3        615 non-null    float64\n",
      " 5   no2       615 non-null    float64\n",
      " 6   max       615 non-null    float64\n",
      " 7   critical  615 non-null    object \n",
      " 8   categori  615 non-null    object \n",
      "dtypes: float64(6), int64(1), object(2)\n",
      "memory usage: 68.0+ KB\n"
     ]
    }
   ],
   "source": [
    "df.info()"
   ]
  },
  {
   "cell_type": "markdown",
   "metadata": {
    "id": "p2c8ibYMBIJT"
   },
   "source": [
    "**Keterangan:** Data kategorik (non-numerik) harus diubah dulu ke data numerik dengan encoding agar bisa dilakukan algortima matematika untuk klasifikasi."
   ]
  },
  {
   "cell_type": "code",
   "execution_count": 116,
   "metadata": {
    "id": "8RtTEwocEBXz"
   },
   "outputs": [],
   "source": [
    "#one hot encoder\n",
    "from sklearn.compose import ColumnTransformer\n",
    "from sklearn.preprocessing import OneHotEncoder\n",
    "\n",
    "one_hot_encoder = ColumnTransformer(transformers=[('encoder', OneHotEncoder(),[0])], remainder='passthrough')"
   ]
  },
  {
   "cell_type": "code",
   "execution_count": 117,
   "metadata": {
    "colab": {
     "base_uri": "https://localhost:8080/"
    },
    "id": "BT34wiLCEKpK",
    "outputId": "aeb97b3e-de06-494f-952c-6c8fb1492625"
   },
   "outputs": [
    {
     "data": {
      "text/plain": [
       "critical\n",
       "O3       36\n",
       "PM10      9\n",
       "PM25    568\n",
       "SO2       2\n",
       "dtype: int64"
      ]
     },
     "execution_count": 117,
     "metadata": {},
     "output_type": "execute_result"
    }
   ],
   "source": [
    "df.groupby('critical').size()"
   ]
  },
  {
   "cell_type": "code",
   "execution_count": 118,
   "metadata": {
    "id": "p6j_iZzhERy1"
   },
   "outputs": [],
   "source": [
    "df = pd.get_dummies(df, columns = [\"critical\"])"
   ]
  },
  {
   "cell_type": "code",
   "execution_count": 119,
   "metadata": {
    "colab": {
     "base_uri": "https://localhost:8080/",
     "height": 206
    },
    "id": "4pwHMmbLEvkI",
    "outputId": "57869c0c-fcc8-4261-a0d1-ef7e64b0524c"
   },
   "outputs": [
    {
     "data": {
      "text/html": [
       "<div>\n",
       "<style scoped>\n",
       "    .dataframe tbody tr th:only-of-type {\n",
       "        vertical-align: middle;\n",
       "    }\n",
       "\n",
       "    .dataframe tbody tr th {\n",
       "        vertical-align: top;\n",
       "    }\n",
       "\n",
       "    .dataframe thead th {\n",
       "        text-align: right;\n",
       "    }\n",
       "</style>\n",
       "<table border=\"1\" class=\"dataframe\">\n",
       "  <thead>\n",
       "    <tr style=\"text-align: right;\">\n",
       "      <th></th>\n",
       "      <th>pm10</th>\n",
       "      <th>pm25</th>\n",
       "      <th>so2</th>\n",
       "      <th>co</th>\n",
       "      <th>o3</th>\n",
       "      <th>no2</th>\n",
       "      <th>max</th>\n",
       "      <th>categori</th>\n",
       "      <th>critical_O3</th>\n",
       "      <th>critical_PM10</th>\n",
       "      <th>critical_PM25</th>\n",
       "      <th>critical_SO2</th>\n",
       "    </tr>\n",
       "  </thead>\n",
       "  <tbody>\n",
       "    <tr>\n",
       "      <th>0</th>\n",
       "      <td>26</td>\n",
       "      <td>42.0</td>\n",
       "      <td>22.0</td>\n",
       "      <td>11.0</td>\n",
       "      <td>13.0</td>\n",
       "      <td>19.0</td>\n",
       "      <td>42.0</td>\n",
       "      <td>BAIK</td>\n",
       "      <td>0</td>\n",
       "      <td>0</td>\n",
       "      <td>1</td>\n",
       "      <td>0</td>\n",
       "    </tr>\n",
       "    <tr>\n",
       "      <th>1</th>\n",
       "      <td>41</td>\n",
       "      <td>54.0</td>\n",
       "      <td>27.0</td>\n",
       "      <td>11.0</td>\n",
       "      <td>17.0</td>\n",
       "      <td>19.0</td>\n",
       "      <td>54.0</td>\n",
       "      <td>SEDANG</td>\n",
       "      <td>0</td>\n",
       "      <td>0</td>\n",
       "      <td>1</td>\n",
       "      <td>0</td>\n",
       "    </tr>\n",
       "    <tr>\n",
       "      <th>2</th>\n",
       "      <td>25</td>\n",
       "      <td>42.0</td>\n",
       "      <td>20.0</td>\n",
       "      <td>8.0</td>\n",
       "      <td>18.0</td>\n",
       "      <td>22.0</td>\n",
       "      <td>42.0</td>\n",
       "      <td>BAIK</td>\n",
       "      <td>0</td>\n",
       "      <td>0</td>\n",
       "      <td>1</td>\n",
       "      <td>0</td>\n",
       "    </tr>\n",
       "    <tr>\n",
       "      <th>3</th>\n",
       "      <td>57</td>\n",
       "      <td>78.0</td>\n",
       "      <td>21.0</td>\n",
       "      <td>23.0</td>\n",
       "      <td>14.0</td>\n",
       "      <td>33.0</td>\n",
       "      <td>78.0</td>\n",
       "      <td>SEDANG</td>\n",
       "      <td>0</td>\n",
       "      <td>0</td>\n",
       "      <td>1</td>\n",
       "      <td>0</td>\n",
       "    </tr>\n",
       "    <tr>\n",
       "      <th>4</th>\n",
       "      <td>52</td>\n",
       "      <td>69.0</td>\n",
       "      <td>22.0</td>\n",
       "      <td>15.0</td>\n",
       "      <td>18.0</td>\n",
       "      <td>27.0</td>\n",
       "      <td>69.0</td>\n",
       "      <td>SEDANG</td>\n",
       "      <td>0</td>\n",
       "      <td>0</td>\n",
       "      <td>1</td>\n",
       "      <td>0</td>\n",
       "    </tr>\n",
       "  </tbody>\n",
       "</table>\n",
       "</div>"
      ],
      "text/plain": [
       "   pm10  pm25   so2  ...  critical_PM10  critical_PM25  critical_SO2\n",
       "0    26  42.0  22.0  ...              0              1             0\n",
       "1    41  54.0  27.0  ...              0              1             0\n",
       "2    25  42.0  20.0  ...              0              1             0\n",
       "3    57  78.0  21.0  ...              0              1             0\n",
       "4    52  69.0  22.0  ...              0              1             0\n",
       "\n",
       "[5 rows x 12 columns]"
      ]
     },
     "execution_count": 119,
     "metadata": {},
     "output_type": "execute_result"
    }
   ],
   "source": [
    "df.head()"
   ]
  },
  {
   "cell_type": "code",
   "execution_count": 120,
   "metadata": {
    "colab": {
     "base_uri": "https://localhost:8080/"
    },
    "id": "dyu4WYvMExpy",
    "outputId": "db7bef8b-0912-4f2e-bc30-a6a1355fc578"
   },
   "outputs": [
    {
     "name": "stdout",
     "output_type": "stream",
     "text": [
      "<class 'pandas.core.frame.DataFrame'>\n",
      "Int64Index: 615 entries, 0 to 754\n",
      "Data columns (total 12 columns):\n",
      " #   Column         Non-Null Count  Dtype  \n",
      "---  ------         --------------  -----  \n",
      " 0   pm10           615 non-null    int64  \n",
      " 1   pm25           615 non-null    float64\n",
      " 2   so2            615 non-null    float64\n",
      " 3   co             615 non-null    float64\n",
      " 4   o3             615 non-null    float64\n",
      " 5   no2            615 non-null    float64\n",
      " 6   max            615 non-null    float64\n",
      " 7   categori       615 non-null    object \n",
      " 8   critical_O3    615 non-null    uint8  \n",
      " 9   critical_PM10  615 non-null    uint8  \n",
      " 10  critical_PM25  615 non-null    uint8  \n",
      " 11  critical_SO2   615 non-null    uint8  \n",
      "dtypes: float64(6), int64(1), object(1), uint8(4)\n",
      "memory usage: 65.6+ KB\n"
     ]
    }
   ],
   "source": [
    "df.info()"
   ]
  },
  {
   "cell_type": "markdown",
   "metadata": {
    "id": "EfsO9U-_GaBZ"
   },
   "source": [
    "##**Normalization**"
   ]
  },
  {
   "cell_type": "code",
   "execution_count": 121,
   "metadata": {
    "colab": {
     "base_uri": "https://localhost:8080/",
     "height": 206
    },
    "id": "AiIqVaxvGem0",
    "outputId": "bd41edf3-70c4-4aac-e14a-7d6432f15487"
   },
   "outputs": [
    {
     "data": {
      "text/html": [
       "<div>\n",
       "<style scoped>\n",
       "    .dataframe tbody tr th:only-of-type {\n",
       "        vertical-align: middle;\n",
       "    }\n",
       "\n",
       "    .dataframe tbody tr th {\n",
       "        vertical-align: top;\n",
       "    }\n",
       "\n",
       "    .dataframe thead th {\n",
       "        text-align: right;\n",
       "    }\n",
       "</style>\n",
       "<table border=\"1\" class=\"dataframe\">\n",
       "  <thead>\n",
       "    <tr style=\"text-align: right;\">\n",
       "      <th></th>\n",
       "      <th>pm10</th>\n",
       "      <th>pm25</th>\n",
       "      <th>so2</th>\n",
       "      <th>co</th>\n",
       "      <th>o3</th>\n",
       "      <th>no2</th>\n",
       "      <th>max</th>\n",
       "      <th>categori</th>\n",
       "      <th>critical_O3</th>\n",
       "      <th>critical_PM10</th>\n",
       "      <th>critical_PM25</th>\n",
       "      <th>critical_SO2</th>\n",
       "    </tr>\n",
       "  </thead>\n",
       "  <tbody>\n",
       "    <tr>\n",
       "      <th>0</th>\n",
       "      <td>26</td>\n",
       "      <td>42.0</td>\n",
       "      <td>22.0</td>\n",
       "      <td>11.0</td>\n",
       "      <td>13.0</td>\n",
       "      <td>19.0</td>\n",
       "      <td>42.0</td>\n",
       "      <td>BAIK</td>\n",
       "      <td>0</td>\n",
       "      <td>0</td>\n",
       "      <td>1</td>\n",
       "      <td>0</td>\n",
       "    </tr>\n",
       "    <tr>\n",
       "      <th>1</th>\n",
       "      <td>41</td>\n",
       "      <td>54.0</td>\n",
       "      <td>27.0</td>\n",
       "      <td>11.0</td>\n",
       "      <td>17.0</td>\n",
       "      <td>19.0</td>\n",
       "      <td>54.0</td>\n",
       "      <td>SEDANG</td>\n",
       "      <td>0</td>\n",
       "      <td>0</td>\n",
       "      <td>1</td>\n",
       "      <td>0</td>\n",
       "    </tr>\n",
       "    <tr>\n",
       "      <th>2</th>\n",
       "      <td>25</td>\n",
       "      <td>42.0</td>\n",
       "      <td>20.0</td>\n",
       "      <td>8.0</td>\n",
       "      <td>18.0</td>\n",
       "      <td>22.0</td>\n",
       "      <td>42.0</td>\n",
       "      <td>BAIK</td>\n",
       "      <td>0</td>\n",
       "      <td>0</td>\n",
       "      <td>1</td>\n",
       "      <td>0</td>\n",
       "    </tr>\n",
       "    <tr>\n",
       "      <th>3</th>\n",
       "      <td>57</td>\n",
       "      <td>78.0</td>\n",
       "      <td>21.0</td>\n",
       "      <td>23.0</td>\n",
       "      <td>14.0</td>\n",
       "      <td>33.0</td>\n",
       "      <td>78.0</td>\n",
       "      <td>SEDANG</td>\n",
       "      <td>0</td>\n",
       "      <td>0</td>\n",
       "      <td>1</td>\n",
       "      <td>0</td>\n",
       "    </tr>\n",
       "    <tr>\n",
       "      <th>4</th>\n",
       "      <td>52</td>\n",
       "      <td>69.0</td>\n",
       "      <td>22.0</td>\n",
       "      <td>15.0</td>\n",
       "      <td>18.0</td>\n",
       "      <td>27.0</td>\n",
       "      <td>69.0</td>\n",
       "      <td>SEDANG</td>\n",
       "      <td>0</td>\n",
       "      <td>0</td>\n",
       "      <td>1</td>\n",
       "      <td>0</td>\n",
       "    </tr>\n",
       "  </tbody>\n",
       "</table>\n",
       "</div>"
      ],
      "text/plain": [
       "   pm10  pm25   so2  ...  critical_PM10  critical_PM25  critical_SO2\n",
       "0    26  42.0  22.0  ...              0              1             0\n",
       "1    41  54.0  27.0  ...              0              1             0\n",
       "2    25  42.0  20.0  ...              0              1             0\n",
       "3    57  78.0  21.0  ...              0              1             0\n",
       "4    52  69.0  22.0  ...              0              1             0\n",
       "\n",
       "[5 rows x 12 columns]"
      ]
     },
     "execution_count": 121,
     "metadata": {},
     "output_type": "execute_result"
    }
   ],
   "source": [
    "df.head()"
   ]
  },
  {
   "cell_type": "code",
   "execution_count": 122,
   "metadata": {
    "id": "pTwZZ0vgYYI1"
   },
   "outputs": [],
   "source": [
    "X = df[['pm10',\t'pm25',\t'so2', 'co', 'o3', 'no2', 'max', 'critical_O3', 'critical_PM10', 'critical_PM25', 'critical_SO2']]\n",
    "y = df[['categori']]"
   ]
  },
  {
   "cell_type": "code",
   "execution_count": 123,
   "metadata": {
    "colab": {
     "base_uri": "https://localhost:8080/"
    },
    "id": "C6Wxo9qIbloV",
    "outputId": "c3206110-f525-45fa-bfd6-3f2dd66f8108"
   },
   "outputs": [
    {
     "name": "stdout",
     "output_type": "stream",
     "text": [
      "Min :  pm10             15.0\n",
      "pm25             13.0\n",
      "so2               2.0\n",
      "co                3.0\n",
      "o3                9.0\n",
      "no2               3.0\n",
      "max              20.0\n",
      "critical_O3       0.0\n",
      "critical_PM10     0.0\n",
      "critical_PM25     0.0\n",
      "critical_SO2      0.0\n",
      "dtype: float64\n",
      "Max :  pm10              89.0\n",
      "pm25             126.0\n",
      "so2               64.0\n",
      "co                24.0\n",
      "o3                77.0\n",
      "no2               37.0\n",
      "max              126.0\n",
      "critical_O3        1.0\n",
      "critical_PM10      1.0\n",
      "critical_PM25      1.0\n",
      "critical_SO2       1.0\n",
      "dtype: float64\n"
     ]
    }
   ],
   "source": [
    "print('Min : ', X.min(axis=0))\n",
    "print('Max : ', X.max(axis=0))"
   ]
  },
  {
   "cell_type": "code",
   "execution_count": 124,
   "metadata": {
    "id": "uX0w-yCLbtyr"
   },
   "outputs": [],
   "source": [
    "from sklearn.preprocessing import MinMaxScaler\n",
    "scaler = MinMaxScaler() \n",
    "data_scaled = scaler.fit_transform(X)"
   ]
  },
  {
   "cell_type": "code",
   "execution_count": 125,
   "metadata": {
    "colab": {
     "base_uri": "https://localhost:8080/"
    },
    "id": "VjzJJZRabwfn",
    "outputId": "74c1fc85-d79a-48e4-f9cf-0e8273cb7d02"
   },
   "outputs": [
    {
     "name": "stdout",
     "output_type": "stream",
     "text": [
      "Min :  [0. 0. 0. 0. 0. 0. 0. 0. 0. 0. 0.]\n",
      "Max :  [1. 1. 1. 1. 1. 1. 1. 1. 1. 1. 1.]\n"
     ]
    }
   ],
   "source": [
    "print('Min : ', data_scaled.min(axis=0))\n",
    "print('Max : ', data_scaled.max(axis=0))"
   ]
  },
  {
   "cell_type": "code",
   "execution_count": 126,
   "metadata": {
    "colab": {
     "base_uri": "https://localhost:8080/",
     "height": 206
    },
    "id": "4SBmMiACbyy9",
    "outputId": "59d28676-1fc7-4baa-a6d5-225bc6b02f6e"
   },
   "outputs": [
    {
     "data": {
      "text/html": [
       "<div>\n",
       "<style scoped>\n",
       "    .dataframe tbody tr th:only-of-type {\n",
       "        vertical-align: middle;\n",
       "    }\n",
       "\n",
       "    .dataframe tbody tr th {\n",
       "        vertical-align: top;\n",
       "    }\n",
       "\n",
       "    .dataframe thead th {\n",
       "        text-align: right;\n",
       "    }\n",
       "</style>\n",
       "<table border=\"1\" class=\"dataframe\">\n",
       "  <thead>\n",
       "    <tr style=\"text-align: right;\">\n",
       "      <th></th>\n",
       "      <th>pm10</th>\n",
       "      <th>pm25</th>\n",
       "      <th>so2</th>\n",
       "      <th>co</th>\n",
       "      <th>o3</th>\n",
       "      <th>no2</th>\n",
       "      <th>max</th>\n",
       "      <th>critical_O3</th>\n",
       "      <th>critical_PM10</th>\n",
       "      <th>critical_PM25</th>\n",
       "      <th>critical_SO2</th>\n",
       "    </tr>\n",
       "  </thead>\n",
       "  <tbody>\n",
       "    <tr>\n",
       "      <th>0</th>\n",
       "      <td>0.148649</td>\n",
       "      <td>0.256637</td>\n",
       "      <td>0.322581</td>\n",
       "      <td>0.380952</td>\n",
       "      <td>0.058824</td>\n",
       "      <td>0.470588</td>\n",
       "      <td>0.207547</td>\n",
       "      <td>0.0</td>\n",
       "      <td>0.0</td>\n",
       "      <td>1.0</td>\n",
       "      <td>0.0</td>\n",
       "    </tr>\n",
       "    <tr>\n",
       "      <th>1</th>\n",
       "      <td>0.351351</td>\n",
       "      <td>0.362832</td>\n",
       "      <td>0.403226</td>\n",
       "      <td>0.380952</td>\n",
       "      <td>0.117647</td>\n",
       "      <td>0.470588</td>\n",
       "      <td>0.320755</td>\n",
       "      <td>0.0</td>\n",
       "      <td>0.0</td>\n",
       "      <td>1.0</td>\n",
       "      <td>0.0</td>\n",
       "    </tr>\n",
       "    <tr>\n",
       "      <th>2</th>\n",
       "      <td>0.135135</td>\n",
       "      <td>0.256637</td>\n",
       "      <td>0.290323</td>\n",
       "      <td>0.238095</td>\n",
       "      <td>0.132353</td>\n",
       "      <td>0.558824</td>\n",
       "      <td>0.207547</td>\n",
       "      <td>0.0</td>\n",
       "      <td>0.0</td>\n",
       "      <td>1.0</td>\n",
       "      <td>0.0</td>\n",
       "    </tr>\n",
       "    <tr>\n",
       "      <th>3</th>\n",
       "      <td>0.567568</td>\n",
       "      <td>0.575221</td>\n",
       "      <td>0.306452</td>\n",
       "      <td>0.952381</td>\n",
       "      <td>0.073529</td>\n",
       "      <td>0.882353</td>\n",
       "      <td>0.547170</td>\n",
       "      <td>0.0</td>\n",
       "      <td>0.0</td>\n",
       "      <td>1.0</td>\n",
       "      <td>0.0</td>\n",
       "    </tr>\n",
       "    <tr>\n",
       "      <th>4</th>\n",
       "      <td>0.500000</td>\n",
       "      <td>0.495575</td>\n",
       "      <td>0.322581</td>\n",
       "      <td>0.571429</td>\n",
       "      <td>0.132353</td>\n",
       "      <td>0.705882</td>\n",
       "      <td>0.462264</td>\n",
       "      <td>0.0</td>\n",
       "      <td>0.0</td>\n",
       "      <td>1.0</td>\n",
       "      <td>0.0</td>\n",
       "    </tr>\n",
       "  </tbody>\n",
       "</table>\n",
       "</div>"
      ],
      "text/plain": [
       "       pm10      pm25       so2  ...  critical_PM10  critical_PM25  critical_SO2\n",
       "0  0.148649  0.256637  0.322581  ...            0.0            1.0           0.0\n",
       "1  0.351351  0.362832  0.403226  ...            0.0            1.0           0.0\n",
       "2  0.135135  0.256637  0.290323  ...            0.0            1.0           0.0\n",
       "3  0.567568  0.575221  0.306452  ...            0.0            1.0           0.0\n",
       "4  0.500000  0.495575  0.322581  ...            0.0            1.0           0.0\n",
       "\n",
       "[5 rows x 11 columns]"
      ]
     },
     "execution_count": 126,
     "metadata": {},
     "output_type": "execute_result"
    }
   ],
   "source": [
    "column_name = list(X.columns)\n",
    "df = pd.DataFrame(data=data_scaled, columns= column_name)\n",
    "df.head()"
   ]
  },
  {
   "cell_type": "code",
   "execution_count": 127,
   "metadata": {
    "colab": {
     "base_uri": "https://localhost:8080/",
     "height": 300
    },
    "id": "5Q27Ic3ZcfYV",
    "outputId": "6d0e59df-5af7-4646-cdb9-3f46ca93a2db"
   },
   "outputs": [
    {
     "data": {
      "text/html": [
       "<div>\n",
       "<style scoped>\n",
       "    .dataframe tbody tr th:only-of-type {\n",
       "        vertical-align: middle;\n",
       "    }\n",
       "\n",
       "    .dataframe tbody tr th {\n",
       "        vertical-align: top;\n",
       "    }\n",
       "\n",
       "    .dataframe thead th {\n",
       "        text-align: right;\n",
       "    }\n",
       "</style>\n",
       "<table border=\"1\" class=\"dataframe\">\n",
       "  <thead>\n",
       "    <tr style=\"text-align: right;\">\n",
       "      <th></th>\n",
       "      <th>pm10</th>\n",
       "      <th>pm25</th>\n",
       "      <th>so2</th>\n",
       "      <th>co</th>\n",
       "      <th>o3</th>\n",
       "      <th>no2</th>\n",
       "      <th>max</th>\n",
       "      <th>critical_O3</th>\n",
       "      <th>critical_PM10</th>\n",
       "      <th>critical_PM25</th>\n",
       "      <th>critical_SO2</th>\n",
       "    </tr>\n",
       "  </thead>\n",
       "  <tbody>\n",
       "    <tr>\n",
       "      <th>count</th>\n",
       "      <td>615.000000</td>\n",
       "      <td>615.000000</td>\n",
       "      <td>615.000000</td>\n",
       "      <td>615.000000</td>\n",
       "      <td>615.000000</td>\n",
       "      <td>615.000000</td>\n",
       "      <td>615.000000</td>\n",
       "      <td>615.000000</td>\n",
       "      <td>615.000000</td>\n",
       "      <td>615.000000</td>\n",
       "      <td>615.000000</td>\n",
       "    </tr>\n",
       "    <tr>\n",
       "      <th>mean</th>\n",
       "      <td>0.443397</td>\n",
       "      <td>0.514933</td>\n",
       "      <td>0.456527</td>\n",
       "      <td>0.430206</td>\n",
       "      <td>0.319365</td>\n",
       "      <td>0.411394</td>\n",
       "      <td>0.492935</td>\n",
       "      <td>0.058537</td>\n",
       "      <td>0.014634</td>\n",
       "      <td>0.923577</td>\n",
       "      <td>0.003252</td>\n",
       "    </tr>\n",
       "    <tr>\n",
       "      <th>std</th>\n",
       "      <td>0.191939</td>\n",
       "      <td>0.183865</td>\n",
       "      <td>0.182428</td>\n",
       "      <td>0.199696</td>\n",
       "      <td>0.211640</td>\n",
       "      <td>0.216275</td>\n",
       "      <td>0.184503</td>\n",
       "      <td>0.234946</td>\n",
       "      <td>0.120181</td>\n",
       "      <td>0.265890</td>\n",
       "      <td>0.056980</td>\n",
       "    </tr>\n",
       "    <tr>\n",
       "      <th>min</th>\n",
       "      <td>0.000000</td>\n",
       "      <td>0.000000</td>\n",
       "      <td>0.000000</td>\n",
       "      <td>0.000000</td>\n",
       "      <td>0.000000</td>\n",
       "      <td>0.000000</td>\n",
       "      <td>0.000000</td>\n",
       "      <td>0.000000</td>\n",
       "      <td>0.000000</td>\n",
       "      <td>0.000000</td>\n",
       "      <td>0.000000</td>\n",
       "    </tr>\n",
       "    <tr>\n",
       "      <th>25%</th>\n",
       "      <td>0.290541</td>\n",
       "      <td>0.371681</td>\n",
       "      <td>0.322581</td>\n",
       "      <td>0.285714</td>\n",
       "      <td>0.161765</td>\n",
       "      <td>0.264706</td>\n",
       "      <td>0.353774</td>\n",
       "      <td>0.000000</td>\n",
       "      <td>0.000000</td>\n",
       "      <td>1.000000</td>\n",
       "      <td>0.000000</td>\n",
       "    </tr>\n",
       "    <tr>\n",
       "      <th>50%</th>\n",
       "      <td>0.486486</td>\n",
       "      <td>0.513274</td>\n",
       "      <td>0.403226</td>\n",
       "      <td>0.428571</td>\n",
       "      <td>0.264706</td>\n",
       "      <td>0.382353</td>\n",
       "      <td>0.490566</td>\n",
       "      <td>0.000000</td>\n",
       "      <td>0.000000</td>\n",
       "      <td>1.000000</td>\n",
       "      <td>0.000000</td>\n",
       "    </tr>\n",
       "    <tr>\n",
       "      <th>75%</th>\n",
       "      <td>0.581081</td>\n",
       "      <td>0.637168</td>\n",
       "      <td>0.612903</td>\n",
       "      <td>0.571429</td>\n",
       "      <td>0.426471</td>\n",
       "      <td>0.529412</td>\n",
       "      <td>0.613208</td>\n",
       "      <td>0.000000</td>\n",
       "      <td>0.000000</td>\n",
       "      <td>1.000000</td>\n",
       "      <td>0.000000</td>\n",
       "    </tr>\n",
       "    <tr>\n",
       "      <th>max</th>\n",
       "      <td>1.000000</td>\n",
       "      <td>1.000000</td>\n",
       "      <td>1.000000</td>\n",
       "      <td>1.000000</td>\n",
       "      <td>1.000000</td>\n",
       "      <td>1.000000</td>\n",
       "      <td>1.000000</td>\n",
       "      <td>1.000000</td>\n",
       "      <td>1.000000</td>\n",
       "      <td>1.000000</td>\n",
       "      <td>1.000000</td>\n",
       "    </tr>\n",
       "  </tbody>\n",
       "</table>\n",
       "</div>"
      ],
      "text/plain": [
       "             pm10        pm25  ...  critical_PM25  critical_SO2\n",
       "count  615.000000  615.000000  ...     615.000000    615.000000\n",
       "mean     0.443397    0.514933  ...       0.923577      0.003252\n",
       "std      0.191939    0.183865  ...       0.265890      0.056980\n",
       "min      0.000000    0.000000  ...       0.000000      0.000000\n",
       "25%      0.290541    0.371681  ...       1.000000      0.000000\n",
       "50%      0.486486    0.513274  ...       1.000000      0.000000\n",
       "75%      0.581081    0.637168  ...       1.000000      0.000000\n",
       "max      1.000000    1.000000  ...       1.000000      1.000000\n",
       "\n",
       "[8 rows x 11 columns]"
      ]
     },
     "execution_count": 127,
     "metadata": {},
     "output_type": "execute_result"
    }
   ],
   "source": [
    "df.describe()"
   ]
  },
  {
   "cell_type": "markdown",
   "metadata": {
    "id": "zMs3wu-NE01i"
   },
   "source": [
    "##**X_Train dan y_Train**"
   ]
  },
  {
   "cell_type": "code",
   "execution_count": 128,
   "metadata": {
    "colab": {
     "base_uri": "https://localhost:8080/",
     "height": 423
    },
    "id": "U7ZNGC7TE7ob",
    "outputId": "7399691e-7f76-45a1-b44c-81375d6e10b5"
   },
   "outputs": [
    {
     "data": {
      "text/html": [
       "<div>\n",
       "<style scoped>\n",
       "    .dataframe tbody tr th:only-of-type {\n",
       "        vertical-align: middle;\n",
       "    }\n",
       "\n",
       "    .dataframe tbody tr th {\n",
       "        vertical-align: top;\n",
       "    }\n",
       "\n",
       "    .dataframe thead th {\n",
       "        text-align: right;\n",
       "    }\n",
       "</style>\n",
       "<table border=\"1\" class=\"dataframe\">\n",
       "  <thead>\n",
       "    <tr style=\"text-align: right;\">\n",
       "      <th></th>\n",
       "      <th>pm10</th>\n",
       "      <th>pm25</th>\n",
       "      <th>so2</th>\n",
       "      <th>co</th>\n",
       "      <th>o3</th>\n",
       "      <th>no2</th>\n",
       "      <th>max</th>\n",
       "      <th>critical_O3</th>\n",
       "      <th>critical_PM10</th>\n",
       "      <th>critical_PM25</th>\n",
       "      <th>critical_SO2</th>\n",
       "    </tr>\n",
       "  </thead>\n",
       "  <tbody>\n",
       "    <tr>\n",
       "      <th>0</th>\n",
       "      <td>26</td>\n",
       "      <td>42.0</td>\n",
       "      <td>22.0</td>\n",
       "      <td>11.0</td>\n",
       "      <td>13.0</td>\n",
       "      <td>19.0</td>\n",
       "      <td>42.0</td>\n",
       "      <td>0</td>\n",
       "      <td>0</td>\n",
       "      <td>1</td>\n",
       "      <td>0</td>\n",
       "    </tr>\n",
       "    <tr>\n",
       "      <th>1</th>\n",
       "      <td>41</td>\n",
       "      <td>54.0</td>\n",
       "      <td>27.0</td>\n",
       "      <td>11.0</td>\n",
       "      <td>17.0</td>\n",
       "      <td>19.0</td>\n",
       "      <td>54.0</td>\n",
       "      <td>0</td>\n",
       "      <td>0</td>\n",
       "      <td>1</td>\n",
       "      <td>0</td>\n",
       "    </tr>\n",
       "    <tr>\n",
       "      <th>2</th>\n",
       "      <td>25</td>\n",
       "      <td>42.0</td>\n",
       "      <td>20.0</td>\n",
       "      <td>8.0</td>\n",
       "      <td>18.0</td>\n",
       "      <td>22.0</td>\n",
       "      <td>42.0</td>\n",
       "      <td>0</td>\n",
       "      <td>0</td>\n",
       "      <td>1</td>\n",
       "      <td>0</td>\n",
       "    </tr>\n",
       "    <tr>\n",
       "      <th>3</th>\n",
       "      <td>57</td>\n",
       "      <td>78.0</td>\n",
       "      <td>21.0</td>\n",
       "      <td>23.0</td>\n",
       "      <td>14.0</td>\n",
       "      <td>33.0</td>\n",
       "      <td>78.0</td>\n",
       "      <td>0</td>\n",
       "      <td>0</td>\n",
       "      <td>1</td>\n",
       "      <td>0</td>\n",
       "    </tr>\n",
       "    <tr>\n",
       "      <th>4</th>\n",
       "      <td>52</td>\n",
       "      <td>69.0</td>\n",
       "      <td>22.0</td>\n",
       "      <td>15.0</td>\n",
       "      <td>18.0</td>\n",
       "      <td>27.0</td>\n",
       "      <td>69.0</td>\n",
       "      <td>0</td>\n",
       "      <td>0</td>\n",
       "      <td>1</td>\n",
       "      <td>0</td>\n",
       "    </tr>\n",
       "    <tr>\n",
       "      <th>...</th>\n",
       "      <td>...</td>\n",
       "      <td>...</td>\n",
       "      <td>...</td>\n",
       "      <td>...</td>\n",
       "      <td>...</td>\n",
       "      <td>...</td>\n",
       "      <td>...</td>\n",
       "      <td>...</td>\n",
       "      <td>...</td>\n",
       "      <td>...</td>\n",
       "      <td>...</td>\n",
       "    </tr>\n",
       "    <tr>\n",
       "      <th>750</th>\n",
       "      <td>34</td>\n",
       "      <td>61.0</td>\n",
       "      <td>32.0</td>\n",
       "      <td>5.0</td>\n",
       "      <td>20.0</td>\n",
       "      <td>11.0</td>\n",
       "      <td>61.0</td>\n",
       "      <td>0</td>\n",
       "      <td>0</td>\n",
       "      <td>1</td>\n",
       "      <td>0</td>\n",
       "    </tr>\n",
       "    <tr>\n",
       "      <th>751</th>\n",
       "      <td>49</td>\n",
       "      <td>77.0</td>\n",
       "      <td>37.0</td>\n",
       "      <td>8.0</td>\n",
       "      <td>20.0</td>\n",
       "      <td>19.0</td>\n",
       "      <td>77.0</td>\n",
       "      <td>0</td>\n",
       "      <td>0</td>\n",
       "      <td>1</td>\n",
       "      <td>0</td>\n",
       "    </tr>\n",
       "    <tr>\n",
       "      <th>752</th>\n",
       "      <td>54</td>\n",
       "      <td>88.0</td>\n",
       "      <td>37.0</td>\n",
       "      <td>11.0</td>\n",
       "      <td>19.0</td>\n",
       "      <td>29.0</td>\n",
       "      <td>88.0</td>\n",
       "      <td>0</td>\n",
       "      <td>0</td>\n",
       "      <td>1</td>\n",
       "      <td>0</td>\n",
       "    </tr>\n",
       "    <tr>\n",
       "      <th>753</th>\n",
       "      <td>46</td>\n",
       "      <td>66.0</td>\n",
       "      <td>24.0</td>\n",
       "      <td>15.0</td>\n",
       "      <td>18.0</td>\n",
       "      <td>29.0</td>\n",
       "      <td>66.0</td>\n",
       "      <td>0</td>\n",
       "      <td>0</td>\n",
       "      <td>1</td>\n",
       "      <td>0</td>\n",
       "    </tr>\n",
       "    <tr>\n",
       "      <th>754</th>\n",
       "      <td>52</td>\n",
       "      <td>82.0</td>\n",
       "      <td>21.0</td>\n",
       "      <td>11.0</td>\n",
       "      <td>27.0</td>\n",
       "      <td>18.0</td>\n",
       "      <td>82.0</td>\n",
       "      <td>0</td>\n",
       "      <td>0</td>\n",
       "      <td>1</td>\n",
       "      <td>0</td>\n",
       "    </tr>\n",
       "  </tbody>\n",
       "</table>\n",
       "<p>615 rows × 11 columns</p>\n",
       "</div>"
      ],
      "text/plain": [
       "     pm10  pm25   so2  ...  critical_PM10  critical_PM25  critical_SO2\n",
       "0      26  42.0  22.0  ...              0              1             0\n",
       "1      41  54.0  27.0  ...              0              1             0\n",
       "2      25  42.0  20.0  ...              0              1             0\n",
       "3      57  78.0  21.0  ...              0              1             0\n",
       "4      52  69.0  22.0  ...              0              1             0\n",
       "..    ...   ...   ...  ...            ...            ...           ...\n",
       "750    34  61.0  32.0  ...              0              1             0\n",
       "751    49  77.0  37.0  ...              0              1             0\n",
       "752    54  88.0  37.0  ...              0              1             0\n",
       "753    46  66.0  24.0  ...              0              1             0\n",
       "754    52  82.0  21.0  ...              0              1             0\n",
       "\n",
       "[615 rows x 11 columns]"
      ]
     },
     "execution_count": 128,
     "metadata": {},
     "output_type": "execute_result"
    }
   ],
   "source": [
    "#data independent\n",
    "X"
   ]
  },
  {
   "cell_type": "code",
   "execution_count": 129,
   "metadata": {
    "colab": {
     "base_uri": "https://localhost:8080/",
     "height": 423
    },
    "id": "pdpqJQ4pFFbJ",
    "outputId": "23ae4dff-b29b-4f35-e61e-31832bc99aa1"
   },
   "outputs": [
    {
     "data": {
      "text/html": [
       "<div>\n",
       "<style scoped>\n",
       "    .dataframe tbody tr th:only-of-type {\n",
       "        vertical-align: middle;\n",
       "    }\n",
       "\n",
       "    .dataframe tbody tr th {\n",
       "        vertical-align: top;\n",
       "    }\n",
       "\n",
       "    .dataframe thead th {\n",
       "        text-align: right;\n",
       "    }\n",
       "</style>\n",
       "<table border=\"1\" class=\"dataframe\">\n",
       "  <thead>\n",
       "    <tr style=\"text-align: right;\">\n",
       "      <th></th>\n",
       "      <th>categori</th>\n",
       "    </tr>\n",
       "  </thead>\n",
       "  <tbody>\n",
       "    <tr>\n",
       "      <th>0</th>\n",
       "      <td>BAIK</td>\n",
       "    </tr>\n",
       "    <tr>\n",
       "      <th>1</th>\n",
       "      <td>SEDANG</td>\n",
       "    </tr>\n",
       "    <tr>\n",
       "      <th>2</th>\n",
       "      <td>BAIK</td>\n",
       "    </tr>\n",
       "    <tr>\n",
       "      <th>3</th>\n",
       "      <td>SEDANG</td>\n",
       "    </tr>\n",
       "    <tr>\n",
       "      <th>4</th>\n",
       "      <td>SEDANG</td>\n",
       "    </tr>\n",
       "    <tr>\n",
       "      <th>...</th>\n",
       "      <td>...</td>\n",
       "    </tr>\n",
       "    <tr>\n",
       "      <th>750</th>\n",
       "      <td>SEDANG</td>\n",
       "    </tr>\n",
       "    <tr>\n",
       "      <th>751</th>\n",
       "      <td>SEDANG</td>\n",
       "    </tr>\n",
       "    <tr>\n",
       "      <th>752</th>\n",
       "      <td>SEDANG</td>\n",
       "    </tr>\n",
       "    <tr>\n",
       "      <th>753</th>\n",
       "      <td>SEDANG</td>\n",
       "    </tr>\n",
       "    <tr>\n",
       "      <th>754</th>\n",
       "      <td>SEDANG</td>\n",
       "    </tr>\n",
       "  </tbody>\n",
       "</table>\n",
       "<p>615 rows × 1 columns</p>\n",
       "</div>"
      ],
      "text/plain": [
       "    categori\n",
       "0       BAIK\n",
       "1     SEDANG\n",
       "2       BAIK\n",
       "3     SEDANG\n",
       "4     SEDANG\n",
       "..       ...\n",
       "750   SEDANG\n",
       "751   SEDANG\n",
       "752   SEDANG\n",
       "753   SEDANG\n",
       "754   SEDANG\n",
       "\n",
       "[615 rows x 1 columns]"
      ]
     },
     "execution_count": 129,
     "metadata": {},
     "output_type": "execute_result"
    }
   ],
   "source": [
    "y"
   ]
  },
  {
   "cell_type": "markdown",
   "metadata": {
    "id": "93sxEyICFQxR"
   },
   "source": [
    "##**Data Imbalance**"
   ]
  },
  {
   "cell_type": "code",
   "execution_count": 130,
   "metadata": {
    "colab": {
     "base_uri": "https://localhost:8080/"
    },
    "id": "PNc6Xz0dFWQo",
    "outputId": "86fbd3f5-43a9-4031-fe95-def80fd7cbe5"
   },
   "outputs": [
    {
     "data": {
      "text/plain": [
       "SEDANG         479\n",
       "BAIK            77\n",
       "TIDAK SEHAT     59\n",
       "Name: categori, dtype: int64"
      ]
     },
     "execution_count": 130,
     "metadata": {},
     "output_type": "execute_result"
    }
   ],
   "source": [
    "#menghitung value label categori\n",
    "y['categori'].value_counts()"
   ]
  },
  {
   "cell_type": "code",
   "execution_count": 131,
   "metadata": {
    "colab": {
     "base_uri": "https://localhost:8080/",
     "height": 320
    },
    "id": "cRvxyqr7Fd-N",
    "outputId": "92c64ba0-eb65-479e-9770-d31281938439"
   },
   "outputs": [
    {
     "data": {
      "text/plain": [
       "(array([ 77.,   0.,   0.,   0.,   0., 479.,   0.,   0.,   0.,  59.]),\n",
       " array([0. , 0.2, 0.4, 0.6, 0.8, 1. , 1.2, 1.4, 1.6, 1.8, 2. ]),\n",
       " <a list of 10 Patch objects>)"
      ]
     },
     "execution_count": 131,
     "metadata": {},
     "output_type": "execute_result"
    },
    {
     "data": {
      "image/png": "[encoded data removed]",
      "text/plain": [
       "<Figure size 432x288 with 1 Axes>"
      ]
     },
     "metadata": {
      "needs_background": "light"
     },
     "output_type": "display_data"
    }
   ],
   "source": [
    "#visualisasi label categori dengan histogram\n",
    "plt.hist(y['categori'])"
   ]
  },
  {
   "cell_type": "code",
   "execution_count": 132,
   "metadata": {
    "colab": {
     "base_uri": "https://localhost:8080/",
     "height": 265
    },
    "id": "g6TWcYbjFk0N",
    "outputId": "72915924-cd6e-467d-c143-ba8076f377b7"
   },
   "outputs": [
    {
     "data": {
      "text/plain": [
       "<matplotlib.axes._subplots.AxesSubplot at 0x7fa927afe7d0>"
      ]
     },
     "execution_count": 132,
     "metadata": {},
     "output_type": "execute_result"
    },
    {
     "data": {
      "image/png": "[encoded data removed]",
      "text/plain": [
       "<Figure size 432x288 with 1 Axes>"
      ]
     },
     "metadata": {},
     "output_type": "display_data"
    }
   ],
   "source": [
    "#visualisasi label categori dengan pie chart\n",
    "y['categori'].value_counts().plot.pie(autopct='%1.1f%%', shadow=True)"
   ]
  },
  {
   "cell_type": "markdown",
   "metadata": {
    "id": "XCb5oh7cGE5l"
   },
   "source": [
    "**Keterangan:** Data kategori imbalance (tidak seimbang) sehingga perlu dilakukan resampling (pengambilan sampel ulang)"
   ]
  },
  {
   "cell_type": "code",
   "execution_count": 133,
   "metadata": {
    "id": "fVNjzAH8SEYs"
   },
   "outputs": [],
   "source": [
    "from sklearn.datasets import make_classification\n",
    "from imblearn.over_sampling import RandomOverSampler\n",
    "from imblearn.under_sampling import RandomUnderSampler\n",
    "from collections import Counter"
   ]
  },
  {
   "cell_type": "code",
   "execution_count": 134,
   "metadata": {
    "colab": {
     "base_uri": "https://localhost:8080/"
    },
    "id": "9xnrq8sOR5nl",
    "outputId": "199e04bb-08e8-43b3-f26a-a91e2e88c8fe"
   },
   "outputs": [
    {
     "name": "stdout",
     "output_type": "stream",
     "text": [
      "Counter({'categori': 1})\n"
     ]
    }
   ],
   "source": [
    "from imblearn.over_sampling import SMOTE\n",
    "\n",
    "smote = SMOTE(random_state=2)\n",
    "X_sm, y_sm = smote.fit_resample(X, y)\n",
    "\n",
    "print(Counter(y_sm))"
   ]
  },
  {
   "cell_type": "code",
   "execution_count": 135,
   "metadata": {
    "colab": {
     "base_uri": "https://localhost:8080/",
     "height": 265
    },
    "id": "4MIHe2_cSIYn",
    "outputId": "5143a0b6-2223-40d9-d89d-c4377f16a748"
   },
   "outputs": [
    {
     "data": {
      "text/plain": [
       "<matplotlib.axes._subplots.AxesSubplot at 0x7fa92f506f50>"
      ]
     },
     "execution_count": 135,
     "metadata": {},
     "output_type": "execute_result"
    },
    {
     "data": {
      "image/png": "[encoded data removed]",
      "text/plain": [
       "<Figure size 432x288 with 1 Axes>"
      ]
     },
     "metadata": {},
     "output_type": "display_data"
    }
   ],
   "source": [
    "#visualisasi label categori dengan pie chart\n",
    "y_sm['categori'].value_counts().plot.pie(autopct='%1.1f%%', shadow=True)"
   ]
  },
  {
   "cell_type": "markdown",
   "metadata": {
    "id": "Lq8d7Ji4q1q6"
   },
   "source": [
    "#**Data Modeling**"
   ]
  },
  {
   "cell_type": "code",
   "execution_count": 136,
   "metadata": {
    "id": "klxw24nKq_mn"
   },
   "outputs": [],
   "source": [
    "#Import library\n",
    "from xgboost import XGBClassifier\n",
    "from sklearn.model_selection import train_test_split\n",
    "from sklearn.metrics import accuracy_score"
   ]
  },
  {
   "cell_type": "code",
   "execution_count": 137,
   "metadata": {
    "id": "CdYlnUo8rGCq"
   },
   "outputs": [],
   "source": [
    "#Split data to data train and data test \n",
    "X_train, X_test, y_train, y_test = train_test_split(X, y, test_size=0.2, random_state=1, stratify=y)"
   ]
  },
  {
   "cell_type": "code",
   "execution_count": 138,
   "metadata": {
    "colab": {
     "base_uri": "https://localhost:8080/"
    },
    "id": "EpA02_YJrQos",
    "outputId": "c77eb29d-81e3-4991-dcd1-8fa26b6a5bda"
   },
   "outputs": [
    {
     "name": "stderr",
     "output_type": "stream",
     "text": [
      "/usr/local/lib/python3.7/dist-packages/sklearn/preprocessing/_label.py:98: DataConversionWarning: A column-vector y was passed when a 1d array was expected. Please change the shape of y to (n_samples, ), for example using ravel().\n",
      "  y = column_or_1d(y, warn=True)\n",
      "/usr/local/lib/python3.7/dist-packages/sklearn/preprocessing/_label.py:133: DataConversionWarning: A column-vector y was passed when a 1d array was expected. Please change the shape of y to (n_samples, ), for example using ravel().\n",
      "  y = column_or_1d(y, warn=True)\n"
     ]
    }
   ],
   "source": [
    "#Membangun model klasifikasi data\n",
    "model = XGBClassifier()\n",
    "model.fit(X_train, y_train)\n",
    "y_pred = model.predict(X_test)"
   ]
  },
  {
   "cell_type": "code",
   "execution_count": 139,
   "metadata": {
    "colab": {
     "base_uri": "https://localhost:8080/"
    },
    "id": "wieTmu_orZ7R",
    "outputId": "2d1ca6b7-e6ec-418e-80df-de7beea00280"
   },
   "outputs": [
    {
     "name": "stdout",
     "output_type": "stream",
     "text": [
      "Accuracy: 100.00%\n"
     ]
    }
   ],
   "source": [
    "#Melihat accuracy model\n",
    "accuracy = accuracy_score(y_test, y_pred)\n",
    "print(\"Accuracy: %.2f%%\" % (accuracy * 100.0))"
   ]
  }
 ],
 "metadata": {
  "colab": {
   "collapsed_sections": [
    "qo9HkwVxNsLo",
    "W6mhg3cNPRtN",
    "cpTPhZz8QU66",
    "TU7t2q2r_iBQ",
    "5-TPOHl4A4KD",
    "EfsO9U-_GaBZ",
    "zMs3wu-NE01i",
    "93sxEyICFQxR"
   ],
   "name": "Tugas Project Kelompok 7.ipynb",
   "provenance": []
  },
  "kernelspec": {
   "display_name": "Python 3",
   "language": "python",
   "name": "python3"
  },
  "language_info": {
   "codemirror_mode": {
    "name": "ipython",
    "version": 3
   },
   "file_extension": ".py",
   "mimetype": "text/x-python",
   "name": "python",
   "nbconvert_exporter": "python",
   "pygments_lexer": "ipython3",
   "version": "3.8.3"
  }
 },
 "nbformat": 4,
 "nbformat_minor": 1
}
