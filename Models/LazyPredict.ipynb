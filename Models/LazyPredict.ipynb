{
 "cells": [
  {
   "cell_type": "code",
   "execution_count": 6,
   "id": "fbd9e7fc",
   "metadata": {},
   "outputs": [],
   "source": [
    "import pandas as pd\n",
    "from lazypredict.Supervised import LazyClassifier\n",
    "from sklearn.datasets import load_iris\n",
    "from sklearn.model_selection import train_test_split"
   ]
  },
  {
   "cell_type": "code",
   "execution_count": 12,
   "id": "3af62aab",
   "metadata": {},
   "outputs": [],
   "source": [
    "data = load_iris()\n",
    "X = data.data\n",
    "y = data.target\n",
    "X_train, X_test, y_train, y_test = train_test_split(X, y, test_size=0.8, random_state=0)"
   ]
  },
  {
   "cell_type": "code",
   "execution_count": 13,
   "id": "6851abf9",
   "metadata": {},
   "outputs": [
    {
     "name": "stderr",
     "output_type": "stream",
     "text": [
      "100%|██████████████████████████████████████████████████████████████████████████████████| 29/29 [00:00<00:00, 60.54it/s]\n"
     ]
    }
   ],
   "source": [
    "lzc = LazyClassifier(verbose=0, ignore_warnings=True, custom_metric=None)\n",
    "models, predictions = lzc.fit(X_train, X_test, y_train, y_test)"
   ]
  },
  {
   "cell_type": "code",
   "execution_count": 14,
   "id": "824fb7cd",
   "metadata": {},
   "outputs": [
    {
     "name": "stdout",
     "output_type": "stream",
     "text": [
      "                               Accuracy  Balanced Accuracy ROC AUC  F1 Score  \\\n",
      "Model                                                                          \n",
      "LinearDiscriminantAnalysis         0.96               0.96    None      0.96   \n",
      "ExtraTreesClassifier               0.93               0.93    None      0.93   \n",
      "GaussianNB                         0.93               0.93    None      0.93   \n",
      "QuadraticDiscriminantAnalysis      0.93               0.93    None      0.93   \n",
      "BaggingClassifier                  0.93               0.93    None      0.92   \n",
      "RandomForestClassifier             0.93               0.93    None      0.92   \n",
      "LabelPropagation                   0.93               0.93    None      0.92   \n",
      "LabelSpreading                     0.93               0.93    None      0.92   \n",
      "AdaBoostClassifier                 0.92               0.92    None      0.92   \n",
      "XGBClassifier                      0.92               0.92    None      0.92   \n",
      "DecisionTreeClassifier             0.92               0.92    None      0.92   \n",
      "ExtraTreeClassifier                0.91               0.91    None      0.91   \n",
      "NuSVC                              0.89               0.89    None      0.89   \n",
      "SVC                                0.89               0.89    None      0.89   \n",
      "KNeighborsClassifier               0.88               0.89    None      0.88   \n",
      "LogisticRegression                 0.87               0.87    None      0.86   \n",
      "LinearSVC                          0.86               0.86    None      0.86   \n",
      "CalibratedClassifierCV             0.84               0.84    None      0.84   \n",
      "NearestCentroid                    0.82               0.83    None      0.82   \n",
      "RidgeClassifierCV                  0.82               0.83    None      0.83   \n",
      "RidgeClassifier                    0.82               0.83    None      0.83   \n",
      "PassiveAggressiveClassifier        0.82               0.82    None      0.81   \n",
      "Perceptron                         0.80               0.80    None      0.79   \n",
      "SGDClassifier                      0.78               0.78    None      0.77   \n",
      "BernoulliNB                        0.76               0.75    None      0.74   \n",
      "DummyClassifier                    0.33               0.33    None      0.16   \n",
      "LGBMClassifier                     0.33               0.33    None      0.16   \n",
      "\n",
      "                               Time Taken  \n",
      "Model                                      \n",
      "LinearDiscriminantAnalysis           0.01  \n",
      "ExtraTreesClassifier                 0.06  \n",
      "GaussianNB                           0.01  \n",
      "QuadraticDiscriminantAnalysis        0.02  \n",
      "BaggingClassifier                    0.02  \n",
      "RandomForestClassifier               0.07  \n",
      "LabelPropagation                     0.01  \n",
      "LabelSpreading                       0.00  \n",
      "AdaBoostClassifier                   0.05  \n",
      "XGBClassifier                        0.09  \n",
      "DecisionTreeClassifier               0.00  \n",
      "ExtraTreeClassifier                  0.01  \n",
      "NuSVC                                0.01  \n",
      "SVC                                  0.01  \n",
      "KNeighborsClassifier                 0.01  \n",
      "LogisticRegression                   0.01  \n",
      "LinearSVC                            0.01  \n",
      "CalibratedClassifierCV               0.02  \n",
      "NearestCentroid                      0.01  \n",
      "RidgeClassifierCV                    0.01  \n",
      "RidgeClassifier                      0.01  \n",
      "PassiveAggressiveClassifier          0.01  \n",
      "Perceptron                           0.01  \n",
      "SGDClassifier                        0.01  \n",
      "BernoulliNB                          0.01  \n",
      "DummyClassifier                      0.01  \n",
      "LGBMClassifier                       0.01  \n"
     ]
    }
   ],
   "source": [
    "print(models)"
   ]
  }
 ],
 "metadata": {
  "kernelspec": {
   "display_name": "Python 3 (ipykernel)",
   "language": "python",
   "name": "python3"
  },
  "language_info": {
   "codemirror_mode": {
    "name": "ipython",
    "version": 3
   },
   "file_extension": ".py",
   "mimetype": "text/x-python",
   "name": "python",
   "nbconvert_exporter": "python",
   "pygments_lexer": "ipython3",
   "version": "3.10.6"
  }
 },
 "nbformat": 4,
 "nbformat_minor": 5
}
